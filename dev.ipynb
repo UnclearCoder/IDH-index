{
 "cells": [
  {
   "cell_type": "code",
   "execution_count": 1,
   "metadata": {},
   "outputs": [],
   "source": [
    "import pandas as pd\n",
    "import numpy as np\n",
    "import world_bank_data as wb\n",
    "import matplotlib.pyplot as plt\n",
    "import seaborn as sns\n",
    "import plotly.graph_objects as go\n",
    "from IDH import IndexIDH"
   ]
  },
  {
   "cell_type": "code",
   "execution_count": 2,
   "metadata": {},
   "outputs": [],
   "source": [
    "idh = IndexIDH()\n",
    "df = idh.income_index()"
   ]
  },
  {
   "cell_type": "code",
   "execution_count": 3,
   "metadata": {},
   "outputs": [
    {
     "data": {
      "text/html": [
       "<div>\n",
       "<style scoped>\n",
       "    .dataframe tbody tr th:only-of-type {\n",
       "        vertical-align: middle;\n",
       "    }\n",
       "\n",
       "    .dataframe tbody tr th {\n",
       "        vertical-align: top;\n",
       "    }\n",
       "\n",
       "    .dataframe thead th {\n",
       "        text-align: right;\n",
       "    }\n",
       "</style>\n",
       "<table border=\"1\" class=\"dataframe\">\n",
       "  <thead>\n",
       "    <tr style=\"text-align: right;\">\n",
       "      <th></th>\n",
       "      <th>Year</th>\n",
       "      <th>atlas</th>\n",
       "      <th>gni</th>\n",
       "      <th>income_index_temp</th>\n",
       "      <th>income_index</th>\n",
       "      <th>pnb</th>\n",
       "    </tr>\n",
       "  </thead>\n",
       "  <tbody>\n",
       "    <tr>\n",
       "      <th>0</th>\n",
       "      <td>2006</td>\n",
       "      <td>15030.0</td>\n",
       "      <td>24680.225191</td>\n",
       "      <td>0.608990</td>\n",
       "      <td>0.608990</td>\n",
       "      <td>15173.0</td>\n",
       "    </tr>\n",
       "    <tr>\n",
       "      <th>1</th>\n",
       "      <td>2007</td>\n",
       "      <td>15860.0</td>\n",
       "      <td>25214.564710</td>\n",
       "      <td>0.629002</td>\n",
       "      <td>0.629002</td>\n",
       "      <td>15984.0</td>\n",
       "    </tr>\n",
       "    <tr>\n",
       "      <th>2</th>\n",
       "      <td>2008</td>\n",
       "      <td>16360.0</td>\n",
       "      <td>24077.486146</td>\n",
       "      <td>0.679473</td>\n",
       "      <td>0.679473</td>\n",
       "      <td>16623.0</td>\n",
       "    </tr>\n",
       "    <tr>\n",
       "      <th>3</th>\n",
       "      <td>2009</td>\n",
       "      <td>16580.0</td>\n",
       "      <td>22697.464584</td>\n",
       "      <td>0.730478</td>\n",
       "      <td>0.730478</td>\n",
       "      <td>16960.0</td>\n",
       "    </tr>\n",
       "    <tr>\n",
       "      <th>4</th>\n",
       "      <td>2010</td>\n",
       "      <td>16920.0</td>\n",
       "      <td>21868.982861</td>\n",
       "      <td>0.773699</td>\n",
       "      <td>0.773699</td>\n",
       "      <td>17233.0</td>\n",
       "    </tr>\n",
       "    <tr>\n",
       "      <th>5</th>\n",
       "      <td>2011</td>\n",
       "      <td>17670.0</td>\n",
       "      <td>21820.651164</td>\n",
       "      <td>0.809783</td>\n",
       "      <td>0.809783</td>\n",
       "      <td>17762.0</td>\n",
       "    </tr>\n",
       "    <tr>\n",
       "      <th>6</th>\n",
       "      <td>2012</td>\n",
       "      <td>18680.0</td>\n",
       "      <td>23332.469013</td>\n",
       "      <td>0.800601</td>\n",
       "      <td>0.800601</td>\n",
       "      <td>18618.0</td>\n",
       "    </tr>\n",
       "    <tr>\n",
       "      <th>7</th>\n",
       "      <td>2013</td>\n",
       "      <td>19170.0</td>\n",
       "      <td>23645.727713</td>\n",
       "      <td>0.810717</td>\n",
       "      <td>0.810717</td>\n",
       "      <td>19077.0</td>\n",
       "    </tr>\n",
       "    <tr>\n",
       "      <th>8</th>\n",
       "      <td>2014</td>\n",
       "      <td>19280.0</td>\n",
       "      <td>23638.745710</td>\n",
       "      <td>0.815610</td>\n",
       "      <td>0.815610</td>\n",
       "      <td>19304.0</td>\n",
       "    </tr>\n",
       "    <tr>\n",
       "      <th>9</th>\n",
       "      <td>2015</td>\n",
       "      <td>19420.0</td>\n",
       "      <td>23569.670527</td>\n",
       "      <td>0.823940</td>\n",
       "      <td>0.823940</td>\n",
       "      <td>19864.0</td>\n",
       "    </tr>\n",
       "    <tr>\n",
       "      <th>10</th>\n",
       "      <td>2016</td>\n",
       "      <td>19710.0</td>\n",
       "      <td>23366.566203</td>\n",
       "      <td>0.843513</td>\n",
       "      <td>0.843513</td>\n",
       "      <td>20345.0</td>\n",
       "    </tr>\n",
       "    <tr>\n",
       "      <th>11</th>\n",
       "      <td>2017</td>\n",
       "      <td>20000.0</td>\n",
       "      <td>22937.677124</td>\n",
       "      <td>0.871928</td>\n",
       "      <td>0.871928</td>\n",
       "      <td>20514.0</td>\n",
       "    </tr>\n",
       "    <tr>\n",
       "      <th>12</th>\n",
       "      <td>2018</td>\n",
       "      <td>21010.0</td>\n",
       "      <td>23298.039626</td>\n",
       "      <td>0.901793</td>\n",
       "      <td>0.901793</td>\n",
       "      <td>20743.0</td>\n",
       "    </tr>\n",
       "    <tr>\n",
       "      <th>13</th>\n",
       "      <td>2019</td>\n",
       "      <td>22040.0</td>\n",
       "      <td>23018.237786</td>\n",
       "      <td>0.957502</td>\n",
       "      <td>0.957502</td>\n",
       "      <td>22156.0</td>\n",
       "    </tr>\n",
       "    <tr>\n",
       "      <th>14</th>\n",
       "      <td>2020</td>\n",
       "      <td>21200.0</td>\n",
       "      <td>22113.452715</td>\n",
       "      <td>0.958692</td>\n",
       "      <td>0.958692</td>\n",
       "      <td>21730.0</td>\n",
       "    </tr>\n",
       "    <tr>\n",
       "      <th>15</th>\n",
       "      <td>2021</td>\n",
       "      <td>22460.0</td>\n",
       "      <td>20959.239257</td>\n",
       "      <td>1.071604</td>\n",
       "      <td>1.071604</td>\n",
       "      <td>22292.0</td>\n",
       "    </tr>\n",
       "    <tr>\n",
       "      <th>16</th>\n",
       "      <td>2022</td>\n",
       "      <td>24560.0</td>\n",
       "      <td>22313.031679</td>\n",
       "      <td>1.100702</td>\n",
       "      <td>1.100702</td>\n",
       "      <td>24045.0</td>\n",
       "    </tr>\n",
       "  </tbody>\n",
       "</table>\n",
       "</div>"
      ],
      "text/plain": [
       "    Year    atlas           gni  income_index_temp  income_index      pnb\n",
       "0   2006  15030.0  24680.225191           0.608990      0.608990  15173.0\n",
       "1   2007  15860.0  25214.564710           0.629002      0.629002  15984.0\n",
       "2   2008  16360.0  24077.486146           0.679473      0.679473  16623.0\n",
       "3   2009  16580.0  22697.464584           0.730478      0.730478  16960.0\n",
       "4   2010  16920.0  21868.982861           0.773699      0.773699  17233.0\n",
       "5   2011  17670.0  21820.651164           0.809783      0.809783  17762.0\n",
       "6   2012  18680.0  23332.469013           0.800601      0.800601  18618.0\n",
       "7   2013  19170.0  23645.727713           0.810717      0.810717  19077.0\n",
       "8   2014  19280.0  23638.745710           0.815610      0.815610  19304.0\n",
       "9   2015  19420.0  23569.670527           0.823940      0.823940  19864.0\n",
       "10  2016  19710.0  23366.566203           0.843513      0.843513  20345.0\n",
       "11  2017  20000.0  22937.677124           0.871928      0.871928  20514.0\n",
       "12  2018  21010.0  23298.039626           0.901793      0.901793  20743.0\n",
       "13  2019  22040.0  23018.237786           0.957502      0.957502  22156.0\n",
       "14  2020  21200.0  22113.452715           0.958692      0.958692  21730.0\n",
       "15  2021  22460.0  20959.239257           1.071604      1.071604  22292.0\n",
       "16  2022  24560.0  22313.031679           1.100702      1.100702  24045.0"
      ]
     },
     "execution_count": 3,
     "metadata": {},
     "output_type": "execute_result"
    }
   ],
   "source": [
    "df.head(50)"
   ]
  },
  {
   "cell_type": "code",
   "execution_count": 4,
   "metadata": {},
   "outputs": [
    {
     "data": {
      "text/html": [
       "<div>\n",
       "<style scoped>\n",
       "    .dataframe tbody tr th:only-of-type {\n",
       "        vertical-align: middle;\n",
       "    }\n",
       "\n",
       "    .dataframe tbody tr th {\n",
       "        vertical-align: top;\n",
       "    }\n",
       "\n",
       "    .dataframe thead th {\n",
       "        text-align: right;\n",
       "    }\n",
       "</style>\n",
       "<table border=\"1\" class=\"dataframe\">\n",
       "  <thead>\n",
       "    <tr style=\"text-align: right;\">\n",
       "      <th></th>\n",
       "      <th>Year</th>\n",
       "      <th>atlas</th>\n",
       "      <th>gni</th>\n",
       "      <th>income_index_temp</th>\n",
       "      <th>income_index</th>\n",
       "      <th>pnb</th>\n",
       "      <th>dummy</th>\n",
       "    </tr>\n",
       "  </thead>\n",
       "  <tbody>\n",
       "    <tr>\n",
       "      <th>0</th>\n",
       "      <td>2006</td>\n",
       "      <td>15030.0</td>\n",
       "      <td>24680.225191</td>\n",
       "      <td>0.608990</td>\n",
       "      <td>0.608990</td>\n",
       "      <td>15173.0</td>\n",
       "      <td>9240.198914</td>\n",
       "    </tr>\n",
       "    <tr>\n",
       "      <th>1</th>\n",
       "      <td>2007</td>\n",
       "      <td>15860.0</td>\n",
       "      <td>25214.564710</td>\n",
       "      <td>0.629002</td>\n",
       "      <td>0.629002</td>\n",
       "      <td>15984.0</td>\n",
       "      <td>10053.960595</td>\n",
       "    </tr>\n",
       "    <tr>\n",
       "      <th>2</th>\n",
       "      <td>2008</td>\n",
       "      <td>16360.0</td>\n",
       "      <td>24077.486146</td>\n",
       "      <td>0.679473</td>\n",
       "      <td>0.679473</td>\n",
       "      <td>16623.0</td>\n",
       "      <td>11294.878475</td>\n",
       "    </tr>\n",
       "    <tr>\n",
       "      <th>3</th>\n",
       "      <td>2009</td>\n",
       "      <td>16580.0</td>\n",
       "      <td>22697.464584</td>\n",
       "      <td>0.730478</td>\n",
       "      <td>0.730478</td>\n",
       "      <td>16960.0</td>\n",
       "      <td>12388.907975</td>\n",
       "    </tr>\n",
       "    <tr>\n",
       "      <th>4</th>\n",
       "      <td>2010</td>\n",
       "      <td>16920.0</td>\n",
       "      <td>21868.982861</td>\n",
       "      <td>0.773699</td>\n",
       "      <td>0.773699</td>\n",
       "      <td>17233.0</td>\n",
       "      <td>13333.146852</td>\n",
       "    </tr>\n",
       "    <tr>\n",
       "      <th>5</th>\n",
       "      <td>2011</td>\n",
       "      <td>17670.0</td>\n",
       "      <td>21820.651164</td>\n",
       "      <td>0.809783</td>\n",
       "      <td>0.809783</td>\n",
       "      <td>17762.0</td>\n",
       "      <td>14383.371864</td>\n",
       "    </tr>\n",
       "    <tr>\n",
       "      <th>6</th>\n",
       "      <td>2012</td>\n",
       "      <td>18680.0</td>\n",
       "      <td>23332.469013</td>\n",
       "      <td>0.800601</td>\n",
       "      <td>0.800601</td>\n",
       "      <td>18618.0</td>\n",
       "      <td>14905.590995</td>\n",
       "    </tr>\n",
       "    <tr>\n",
       "      <th>7</th>\n",
       "      <td>2013</td>\n",
       "      <td>19170.0</td>\n",
       "      <td>23645.727713</td>\n",
       "      <td>0.810717</td>\n",
       "      <td>0.810717</td>\n",
       "      <td>19077.0</td>\n",
       "      <td>15466.053506</td>\n",
       "    </tr>\n",
       "    <tr>\n",
       "      <th>8</th>\n",
       "      <td>2014</td>\n",
       "      <td>19280.0</td>\n",
       "      <td>23638.745710</td>\n",
       "      <td>0.815610</td>\n",
       "      <td>0.815610</td>\n",
       "      <td>19304.0</td>\n",
       "      <td>15744.537573</td>\n",
       "    </tr>\n",
       "    <tr>\n",
       "      <th>9</th>\n",
       "      <td>2015</td>\n",
       "      <td>19420.0</td>\n",
       "      <td>23569.670527</td>\n",
       "      <td>0.823940</td>\n",
       "      <td>0.823940</td>\n",
       "      <td>19864.0</td>\n",
       "      <td>16366.748935</td>\n",
       "    </tr>\n",
       "    <tr>\n",
       "      <th>10</th>\n",
       "      <td>2016</td>\n",
       "      <td>19710.0</td>\n",
       "      <td>23366.566203</td>\n",
       "      <td>0.843513</td>\n",
       "      <td>0.843513</td>\n",
       "      <td>20345.0</td>\n",
       "      <td>17161.269932</td>\n",
       "    </tr>\n",
       "    <tr>\n",
       "      <th>11</th>\n",
       "      <td>2017</td>\n",
       "      <td>20000.0</td>\n",
       "      <td>22937.677124</td>\n",
       "      <td>0.871928</td>\n",
       "      <td>0.871928</td>\n",
       "      <td>20514.0</td>\n",
       "      <td>17886.728364</td>\n",
       "    </tr>\n",
       "    <tr>\n",
       "      <th>12</th>\n",
       "      <td>2018</td>\n",
       "      <td>21010.0</td>\n",
       "      <td>23298.039626</td>\n",
       "      <td>0.901793</td>\n",
       "      <td>0.901793</td>\n",
       "      <td>20743.0</td>\n",
       "      <td>18705.884143</td>\n",
       "    </tr>\n",
       "    <tr>\n",
       "      <th>13</th>\n",
       "      <td>2019</td>\n",
       "      <td>22040.0</td>\n",
       "      <td>23018.237786</td>\n",
       "      <td>0.957502</td>\n",
       "      <td>0.957502</td>\n",
       "      <td>22156.0</td>\n",
       "      <td>21214.405922</td>\n",
       "    </tr>\n",
       "    <tr>\n",
       "      <th>14</th>\n",
       "      <td>2020</td>\n",
       "      <td>21200.0</td>\n",
       "      <td>22113.452715</td>\n",
       "      <td>0.958692</td>\n",
       "      <td>0.958692</td>\n",
       "      <td>21730.0</td>\n",
       "      <td>20832.386780</td>\n",
       "    </tr>\n",
       "    <tr>\n",
       "      <th>15</th>\n",
       "      <td>2021</td>\n",
       "      <td>22460.0</td>\n",
       "      <td>20959.239257</td>\n",
       "      <td>1.071604</td>\n",
       "      <td>1.071604</td>\n",
       "      <td>22292.0</td>\n",
       "      <td>23888.191450</td>\n",
       "    </tr>\n",
       "    <tr>\n",
       "      <th>16</th>\n",
       "      <td>2022</td>\n",
       "      <td>24560.0</td>\n",
       "      <td>22313.031679</td>\n",
       "      <td>1.100702</td>\n",
       "      <td>1.100702</td>\n",
       "      <td>24045.0</td>\n",
       "      <td>26466.381104</td>\n",
       "    </tr>\n",
       "  </tbody>\n",
       "</table>\n",
       "</div>"
      ],
      "text/plain": [
       "    Year    atlas           gni  income_index_temp  income_index      pnb  \\\n",
       "0   2006  15030.0  24680.225191           0.608990      0.608990  15173.0   \n",
       "1   2007  15860.0  25214.564710           0.629002      0.629002  15984.0   \n",
       "2   2008  16360.0  24077.486146           0.679473      0.679473  16623.0   \n",
       "3   2009  16580.0  22697.464584           0.730478      0.730478  16960.0   \n",
       "4   2010  16920.0  21868.982861           0.773699      0.773699  17233.0   \n",
       "5   2011  17670.0  21820.651164           0.809783      0.809783  17762.0   \n",
       "6   2012  18680.0  23332.469013           0.800601      0.800601  18618.0   \n",
       "7   2013  19170.0  23645.727713           0.810717      0.810717  19077.0   \n",
       "8   2014  19280.0  23638.745710           0.815610      0.815610  19304.0   \n",
       "9   2015  19420.0  23569.670527           0.823940      0.823940  19864.0   \n",
       "10  2016  19710.0  23366.566203           0.843513      0.843513  20345.0   \n",
       "11  2017  20000.0  22937.677124           0.871928      0.871928  20514.0   \n",
       "12  2018  21010.0  23298.039626           0.901793      0.901793  20743.0   \n",
       "13  2019  22040.0  23018.237786           0.957502      0.957502  22156.0   \n",
       "14  2020  21200.0  22113.452715           0.958692      0.958692  21730.0   \n",
       "15  2021  22460.0  20959.239257           1.071604      1.071604  22292.0   \n",
       "16  2022  24560.0  22313.031679           1.100702      1.100702  24045.0   \n",
       "\n",
       "           dummy  \n",
       "0    9240.198914  \n",
       "1   10053.960595  \n",
       "2   11294.878475  \n",
       "3   12388.907975  \n",
       "4   13333.146852  \n",
       "5   14383.371864  \n",
       "6   14905.590995  \n",
       "7   15466.053506  \n",
       "8   15744.537573  \n",
       "9   16366.748935  \n",
       "10  17161.269932  \n",
       "11  17886.728364  \n",
       "12  18705.884143  \n",
       "13  21214.405922  \n",
       "14  20832.386780  \n",
       "15  23888.191450  \n",
       "16  26466.381104  "
      ]
     },
     "execution_count": 4,
     "metadata": {},
     "output_type": "execute_result"
    }
   ],
   "source": [
    "df['dummy'] = df['income_index'] * df['pnb']\n",
    "df"
   ]
  },
  {
   "cell_type": "code",
   "execution_count": 5,
   "metadata": {},
   "outputs": [
    {
     "data": {
      "application/vnd.plotly.v1+json": {
       "config": {
        "plotlyServerURL": "https://plot.ly"
       },
       "data": [
        {
         "mode": "lines",
         "name": "dummy",
         "type": "scatter",
         "x": [
          2006,
          2007,
          2008,
          2009,
          2010,
          2011,
          2012,
          2013,
          2014,
          2015,
          2016,
          2017,
          2018,
          2019,
          2020,
          2021,
          2022
         ],
         "y": [
          9240.198913530512,
          10053.960594518398,
          11294.878475070604,
          12388.90797531409,
          13333.146852451044,
          14383.371863911874,
          14905.590994636574,
          15466.053506038423,
          15744.537572646264,
          16366.748935230766,
          17161.269932283205,
          17886.72836355754,
          18705.884142623236,
          21214.405921888443,
          20832.386780117464,
          23888.191449604074,
          26466.381104043365
         ]
        }
       ],
       "layout": {
        "template": {
         "data": {
          "bar": [
           {
            "error_x": {
             "color": "#2a3f5f"
            },
            "error_y": {
             "color": "#2a3f5f"
            },
            "marker": {
             "line": {
              "color": "#E5ECF6",
              "width": 0.5
             },
             "pattern": {
              "fillmode": "overlay",
              "size": 10,
              "solidity": 0.2
             }
            },
            "type": "bar"
           }
          ],
          "barpolar": [
           {
            "marker": {
             "line": {
              "color": "#E5ECF6",
              "width": 0.5
             },
             "pattern": {
              "fillmode": "overlay",
              "size": 10,
              "solidity": 0.2
             }
            },
            "type": "barpolar"
           }
          ],
          "carpet": [
           {
            "aaxis": {
             "endlinecolor": "#2a3f5f",
             "gridcolor": "white",
             "linecolor": "white",
             "minorgridcolor": "white",
             "startlinecolor": "#2a3f5f"
            },
            "baxis": {
             "endlinecolor": "#2a3f5f",
             "gridcolor": "white",
             "linecolor": "white",
             "minorgridcolor": "white",
             "startlinecolor": "#2a3f5f"
            },
            "type": "carpet"
           }
          ],
          "choropleth": [
           {
            "colorbar": {
             "outlinewidth": 0,
             "ticks": ""
            },
            "type": "choropleth"
           }
          ],
          "contour": [
           {
            "colorbar": {
             "outlinewidth": 0,
             "ticks": ""
            },
            "colorscale": [
             [
              0,
              "#0d0887"
             ],
             [
              0.1111111111111111,
              "#46039f"
             ],
             [
              0.2222222222222222,
              "#7201a8"
             ],
             [
              0.3333333333333333,
              "#9c179e"
             ],
             [
              0.4444444444444444,
              "#bd3786"
             ],
             [
              0.5555555555555556,
              "#d8576b"
             ],
             [
              0.6666666666666666,
              "#ed7953"
             ],
             [
              0.7777777777777778,
              "#fb9f3a"
             ],
             [
              0.8888888888888888,
              "#fdca26"
             ],
             [
              1,
              "#f0f921"
             ]
            ],
            "type": "contour"
           }
          ],
          "contourcarpet": [
           {
            "colorbar": {
             "outlinewidth": 0,
             "ticks": ""
            },
            "type": "contourcarpet"
           }
          ],
          "heatmap": [
           {
            "colorbar": {
             "outlinewidth": 0,
             "ticks": ""
            },
            "colorscale": [
             [
              0,
              "#0d0887"
             ],
             [
              0.1111111111111111,
              "#46039f"
             ],
             [
              0.2222222222222222,
              "#7201a8"
             ],
             [
              0.3333333333333333,
              "#9c179e"
             ],
             [
              0.4444444444444444,
              "#bd3786"
             ],
             [
              0.5555555555555556,
              "#d8576b"
             ],
             [
              0.6666666666666666,
              "#ed7953"
             ],
             [
              0.7777777777777778,
              "#fb9f3a"
             ],
             [
              0.8888888888888888,
              "#fdca26"
             ],
             [
              1,
              "#f0f921"
             ]
            ],
            "type": "heatmap"
           }
          ],
          "heatmapgl": [
           {
            "colorbar": {
             "outlinewidth": 0,
             "ticks": ""
            },
            "colorscale": [
             [
              0,
              "#0d0887"
             ],
             [
              0.1111111111111111,
              "#46039f"
             ],
             [
              0.2222222222222222,
              "#7201a8"
             ],
             [
              0.3333333333333333,
              "#9c179e"
             ],
             [
              0.4444444444444444,
              "#bd3786"
             ],
             [
              0.5555555555555556,
              "#d8576b"
             ],
             [
              0.6666666666666666,
              "#ed7953"
             ],
             [
              0.7777777777777778,
              "#fb9f3a"
             ],
             [
              0.8888888888888888,
              "#fdca26"
             ],
             [
              1,
              "#f0f921"
             ]
            ],
            "type": "heatmapgl"
           }
          ],
          "histogram": [
           {
            "marker": {
             "pattern": {
              "fillmode": "overlay",
              "size": 10,
              "solidity": 0.2
             }
            },
            "type": "histogram"
           }
          ],
          "histogram2d": [
           {
            "colorbar": {
             "outlinewidth": 0,
             "ticks": ""
            },
            "colorscale": [
             [
              0,
              "#0d0887"
             ],
             [
              0.1111111111111111,
              "#46039f"
             ],
             [
              0.2222222222222222,
              "#7201a8"
             ],
             [
              0.3333333333333333,
              "#9c179e"
             ],
             [
              0.4444444444444444,
              "#bd3786"
             ],
             [
              0.5555555555555556,
              "#d8576b"
             ],
             [
              0.6666666666666666,
              "#ed7953"
             ],
             [
              0.7777777777777778,
              "#fb9f3a"
             ],
             [
              0.8888888888888888,
              "#fdca26"
             ],
             [
              1,
              "#f0f921"
             ]
            ],
            "type": "histogram2d"
           }
          ],
          "histogram2dcontour": [
           {
            "colorbar": {
             "outlinewidth": 0,
             "ticks": ""
            },
            "colorscale": [
             [
              0,
              "#0d0887"
             ],
             [
              0.1111111111111111,
              "#46039f"
             ],
             [
              0.2222222222222222,
              "#7201a8"
             ],
             [
              0.3333333333333333,
              "#9c179e"
             ],
             [
              0.4444444444444444,
              "#bd3786"
             ],
             [
              0.5555555555555556,
              "#d8576b"
             ],
             [
              0.6666666666666666,
              "#ed7953"
             ],
             [
              0.7777777777777778,
              "#fb9f3a"
             ],
             [
              0.8888888888888888,
              "#fdca26"
             ],
             [
              1,
              "#f0f921"
             ]
            ],
            "type": "histogram2dcontour"
           }
          ],
          "mesh3d": [
           {
            "colorbar": {
             "outlinewidth": 0,
             "ticks": ""
            },
            "type": "mesh3d"
           }
          ],
          "parcoords": [
           {
            "line": {
             "colorbar": {
              "outlinewidth": 0,
              "ticks": ""
             }
            },
            "type": "parcoords"
           }
          ],
          "pie": [
           {
            "automargin": true,
            "type": "pie"
           }
          ],
          "scatter": [
           {
            "fillpattern": {
             "fillmode": "overlay",
             "size": 10,
             "solidity": 0.2
            },
            "type": "scatter"
           }
          ],
          "scatter3d": [
           {
            "line": {
             "colorbar": {
              "outlinewidth": 0,
              "ticks": ""
             }
            },
            "marker": {
             "colorbar": {
              "outlinewidth": 0,
              "ticks": ""
             }
            },
            "type": "scatter3d"
           }
          ],
          "scattercarpet": [
           {
            "marker": {
             "colorbar": {
              "outlinewidth": 0,
              "ticks": ""
             }
            },
            "type": "scattercarpet"
           }
          ],
          "scattergeo": [
           {
            "marker": {
             "colorbar": {
              "outlinewidth": 0,
              "ticks": ""
             }
            },
            "type": "scattergeo"
           }
          ],
          "scattergl": [
           {
            "marker": {
             "colorbar": {
              "outlinewidth": 0,
              "ticks": ""
             }
            },
            "type": "scattergl"
           }
          ],
          "scattermapbox": [
           {
            "marker": {
             "colorbar": {
              "outlinewidth": 0,
              "ticks": ""
             }
            },
            "type": "scattermapbox"
           }
          ],
          "scatterpolar": [
           {
            "marker": {
             "colorbar": {
              "outlinewidth": 0,
              "ticks": ""
             }
            },
            "type": "scatterpolar"
           }
          ],
          "scatterpolargl": [
           {
            "marker": {
             "colorbar": {
              "outlinewidth": 0,
              "ticks": ""
             }
            },
            "type": "scatterpolargl"
           }
          ],
          "scatterternary": [
           {
            "marker": {
             "colorbar": {
              "outlinewidth": 0,
              "ticks": ""
             }
            },
            "type": "scatterternary"
           }
          ],
          "surface": [
           {
            "colorbar": {
             "outlinewidth": 0,
             "ticks": ""
            },
            "colorscale": [
             [
              0,
              "#0d0887"
             ],
             [
              0.1111111111111111,
              "#46039f"
             ],
             [
              0.2222222222222222,
              "#7201a8"
             ],
             [
              0.3333333333333333,
              "#9c179e"
             ],
             [
              0.4444444444444444,
              "#bd3786"
             ],
             [
              0.5555555555555556,
              "#d8576b"
             ],
             [
              0.6666666666666666,
              "#ed7953"
             ],
             [
              0.7777777777777778,
              "#fb9f3a"
             ],
             [
              0.8888888888888888,
              "#fdca26"
             ],
             [
              1,
              "#f0f921"
             ]
            ],
            "type": "surface"
           }
          ],
          "table": [
           {
            "cells": {
             "fill": {
              "color": "#EBF0F8"
             },
             "line": {
              "color": "white"
             }
            },
            "header": {
             "fill": {
              "color": "#C8D4E3"
             },
             "line": {
              "color": "white"
             }
            },
            "type": "table"
           }
          ]
         },
         "layout": {
          "annotationdefaults": {
           "arrowcolor": "#2a3f5f",
           "arrowhead": 0,
           "arrowwidth": 1
          },
          "autotypenumbers": "strict",
          "coloraxis": {
           "colorbar": {
            "outlinewidth": 0,
            "ticks": ""
           }
          },
          "colorscale": {
           "diverging": [
            [
             0,
             "#8e0152"
            ],
            [
             0.1,
             "#c51b7d"
            ],
            [
             0.2,
             "#de77ae"
            ],
            [
             0.3,
             "#f1b6da"
            ],
            [
             0.4,
             "#fde0ef"
            ],
            [
             0.5,
             "#f7f7f7"
            ],
            [
             0.6,
             "#e6f5d0"
            ],
            [
             0.7,
             "#b8e186"
            ],
            [
             0.8,
             "#7fbc41"
            ],
            [
             0.9,
             "#4d9221"
            ],
            [
             1,
             "#276419"
            ]
           ],
           "sequential": [
            [
             0,
             "#0d0887"
            ],
            [
             0.1111111111111111,
             "#46039f"
            ],
            [
             0.2222222222222222,
             "#7201a8"
            ],
            [
             0.3333333333333333,
             "#9c179e"
            ],
            [
             0.4444444444444444,
             "#bd3786"
            ],
            [
             0.5555555555555556,
             "#d8576b"
            ],
            [
             0.6666666666666666,
             "#ed7953"
            ],
            [
             0.7777777777777778,
             "#fb9f3a"
            ],
            [
             0.8888888888888888,
             "#fdca26"
            ],
            [
             1,
             "#f0f921"
            ]
           ],
           "sequentialminus": [
            [
             0,
             "#0d0887"
            ],
            [
             0.1111111111111111,
             "#46039f"
            ],
            [
             0.2222222222222222,
             "#7201a8"
            ],
            [
             0.3333333333333333,
             "#9c179e"
            ],
            [
             0.4444444444444444,
             "#bd3786"
            ],
            [
             0.5555555555555556,
             "#d8576b"
            ],
            [
             0.6666666666666666,
             "#ed7953"
            ],
            [
             0.7777777777777778,
             "#fb9f3a"
            ],
            [
             0.8888888888888888,
             "#fdca26"
            ],
            [
             1,
             "#f0f921"
            ]
           ]
          },
          "colorway": [
           "#636efa",
           "#EF553B",
           "#00cc96",
           "#ab63fa",
           "#FFA15A",
           "#19d3f3",
           "#FF6692",
           "#B6E880",
           "#FF97FF",
           "#FECB52"
          ],
          "font": {
           "color": "#2a3f5f"
          },
          "geo": {
           "bgcolor": "white",
           "lakecolor": "white",
           "landcolor": "#E5ECF6",
           "showlakes": true,
           "showland": true,
           "subunitcolor": "white"
          },
          "hoverlabel": {
           "align": "left"
          },
          "hovermode": "closest",
          "mapbox": {
           "style": "light"
          },
          "paper_bgcolor": "white",
          "plot_bgcolor": "#E5ECF6",
          "polar": {
           "angularaxis": {
            "gridcolor": "white",
            "linecolor": "white",
            "ticks": ""
           },
           "bgcolor": "#E5ECF6",
           "radialaxis": {
            "gridcolor": "white",
            "linecolor": "white",
            "ticks": ""
           }
          },
          "scene": {
           "xaxis": {
            "backgroundcolor": "#E5ECF6",
            "gridcolor": "white",
            "gridwidth": 2,
            "linecolor": "white",
            "showbackground": true,
            "ticks": "",
            "zerolinecolor": "white"
           },
           "yaxis": {
            "backgroundcolor": "#E5ECF6",
            "gridcolor": "white",
            "gridwidth": 2,
            "linecolor": "white",
            "showbackground": true,
            "ticks": "",
            "zerolinecolor": "white"
           },
           "zaxis": {
            "backgroundcolor": "#E5ECF6",
            "gridcolor": "white",
            "gridwidth": 2,
            "linecolor": "white",
            "showbackground": true,
            "ticks": "",
            "zerolinecolor": "white"
           }
          },
          "shapedefaults": {
           "line": {
            "color": "#2a3f5f"
           }
          },
          "ternary": {
           "aaxis": {
            "gridcolor": "white",
            "linecolor": "white",
            "ticks": ""
           },
           "baxis": {
            "gridcolor": "white",
            "linecolor": "white",
            "ticks": ""
           },
           "bgcolor": "#E5ECF6",
           "caxis": {
            "gridcolor": "white",
            "linecolor": "white",
            "ticks": ""
           }
          },
          "title": {
           "x": 0.05
          },
          "xaxis": {
           "automargin": true,
           "gridcolor": "white",
           "linecolor": "white",
           "ticks": "",
           "title": {
            "standoff": 15
           },
           "zerolinecolor": "white",
           "zerolinewidth": 2
          },
          "yaxis": {
           "automargin": true,
           "gridcolor": "white",
           "linecolor": "white",
           "ticks": "",
           "title": {
            "standoff": 15
           },
           "zerolinecolor": "white",
           "zerolinewidth": 2
          }
         }
        }
       }
      }
     },
     "metadata": {},
     "output_type": "display_data"
    }
   ],
   "source": [
    "# graph dummy data with ploty\n",
    "fig = go.Figure()\n",
    "fig.add_trace(go.Scatter(x=df['Year'], y=df['dummy'], name='dummy', mode='lines'))\n",
    "fig.show()"
   ]
  }
 ],
 "metadata": {
  "kernelspec": {
   "display_name": "research",
   "language": "python",
   "name": "python3"
  },
  "language_info": {
   "codemirror_mode": {
    "name": "ipython",
    "version": 3
   },
   "file_extension": ".py",
   "mimetype": "text/x-python",
   "name": "python",
   "nbconvert_exporter": "python",
   "pygments_lexer": "ipython3",
   "version": "3.10.12"
  },
  "orig_nbformat": 4
 },
 "nbformat": 4,
 "nbformat_minor": 2
}
