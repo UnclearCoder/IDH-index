{
 "cells": [
  {
   "cell_type": "code",
   "execution_count": 25,
   "metadata": {},
   "outputs": [],
   "source": [
    "import pandas as pd\n",
    "import numpy as np\n",
    "from inequalipy import *\n",
    "from scipy.stats import gmean\n",
    "import world_bank_data as wb\n",
    "import os \n",
    "os.chdir('..')\n",
    "import src.data.IDH"
   ]
  },
  {
   "cell_type": "code",
   "execution_count": 27,
   "metadata": {},
   "outputs": [],
   "source": [
    "import src.data.IDH"
   ]
  },
  {
   "cell_type": "code",
   "execution_count": 3,
   "metadata": {},
   "outputs": [
    {
     "name": "stdout",
     "output_type": "stream",
     "text": [
      "edu idex unajusted: 0.9064166224299821\n",
      "edu idex new: 0.8471229914250292\n",
      "geometric mean: 13.449334301402379\n",
      "amean: 14.39070866309704\n",
      "0.013000000000000012\n"
     ]
    }
   ],
   "source": [
    "# edu index ajusted\n",
    "\n",
    "df = df1.copy()\n",
    "df = df[['AGEP', 'SCH', 'SCHL']]\n",
    "\n",
    "# calcualte the mean of years of schooling\n",
    "df2 = df[df['AGEP'] > 25].copy()\n",
    "df2['scholing'] =  df2['SCHL']\n",
    "df2.reset_index(inplace=True)\n",
    "\n",
    "df2['scholing'].replace({3:1, 4:2, 5:3, 6:4, 7:5, 8:6, 9:7, 10:8, 11:9, \n",
    "                        12:10, 13:11, 14:12, 15:13, 15:13, 16:13, 17:13, \n",
    "                        18:13.5, 19:14, 20:15, 21:17, 22:19, 23:19, 24:23}, inplace=True)\n",
    "df2['enroled'] = np.where(df2['scholing'] > 1, 1, 0)\n",
    "\n",
    "df2['no_zero_schooling'] = 1 + df2['scholing']\n",
    "gemetric = gmean(df2['no_zero_schooling'])\n",
    "amean = np.mean(df2['no_zero_schooling'])\n",
    "value1 = df2['scholing'].mean()\n",
    "\n",
    "\n",
    "# calculate the expected years of schooling\n",
    "df3 = df[df['AGEP'] < 25].copy()\n",
    "df3['enrolled'] = df3['SCH'].apply(lambda x: 1 if x > 1 else 0)\n",
    "df_age = df3.groupby(['AGEP'])[['AGEP','enrolled']].count()\n",
    "df_age['enrolled'] = df3.groupby(['AGEP'])['enrolled'].sum()\n",
    "df_age['enrollment_rate'] = df_age['enrolled'] / df_age['AGEP']\n",
    "df_age = df_age.rename (columns = {'AGEP': 'count'})\n",
    "df_age = df_age.reset_index()\n",
    "df_age.drop([0,1,2,3,4], inplace=True)\n",
    "value2 = df_age['enrollment_rate'].sum()\n",
    "\n",
    "# calculate index\n",
    "edu_value = (value1/15 + value2/18) / 2\n",
    "print(f\"edu idex unajusted: {edu_value}\")\n",
    "print(f\"edu idex new: {edu_value* (1-(1-gemetric/amean))}\")\n",
    "print(f\"geometric mean: {gemetric}\")\n",
    "print(f\"amean: {amean}\")\n",
    "print(0.847-0.834)"
   ]
  },
  {
   "cell_type": "code",
   "execution_count": 4,
   "metadata": {},
   "outputs": [
    {
     "data": {
      "text/html": [
       "<div>\n",
       "<style scoped>\n",
       "    .dataframe tbody tr th:only-of-type {\n",
       "        vertical-align: middle;\n",
       "    }\n",
       "\n",
       "    .dataframe tbody tr th {\n",
       "        vertical-align: top;\n",
       "    }\n",
       "\n",
       "    .dataframe thead th {\n",
       "        text-align: right;\n",
       "    }\n",
       "</style>\n",
       "<table border=\"1\" class=\"dataframe\">\n",
       "  <thead>\n",
       "    <tr style=\"text-align: right;\">\n",
       "      <th></th>\n",
       "      <th>Year</th>\n",
       "      <th>index</th>\n",
       "    </tr>\n",
       "  </thead>\n",
       "  <tbody>\n",
       "    <tr>\n",
       "      <th>0</th>\n",
       "      <td>2006</td>\n",
       "      <td>0.842312</td>\n",
       "    </tr>\n",
       "    <tr>\n",
       "      <th>1</th>\n",
       "      <td>2007</td>\n",
       "      <td>0.845325</td>\n",
       "    </tr>\n",
       "    <tr>\n",
       "      <th>2</th>\n",
       "      <td>2008</td>\n",
       "      <td>0.839527</td>\n",
       "    </tr>\n",
       "    <tr>\n",
       "      <th>3</th>\n",
       "      <td>2009</td>\n",
       "      <td>0.831542</td>\n",
       "    </tr>\n",
       "    <tr>\n",
       "      <th>4</th>\n",
       "      <td>2010</td>\n",
       "      <td>0.825205</td>\n",
       "    </tr>\n",
       "    <tr>\n",
       "      <th>5</th>\n",
       "      <td>2011</td>\n",
       "      <td>0.822862</td>\n",
       "    </tr>\n",
       "    <tr>\n",
       "      <th>6</th>\n",
       "      <td>2012</td>\n",
       "      <td>0.831787</td>\n",
       "    </tr>\n",
       "    <tr>\n",
       "      <th>7</th>\n",
       "      <td>2013</td>\n",
       "      <td>0.833588</td>\n",
       "    </tr>\n",
       "    <tr>\n",
       "      <th>8</th>\n",
       "      <td>2014</td>\n",
       "      <td>0.834476</td>\n",
       "    </tr>\n",
       "    <tr>\n",
       "      <th>9</th>\n",
       "      <td>2015</td>\n",
       "      <td>0.837290</td>\n",
       "    </tr>\n",
       "    <tr>\n",
       "      <th>10</th>\n",
       "      <td>2016</td>\n",
       "      <td>0.837358</td>\n",
       "    </tr>\n",
       "    <tr>\n",
       "      <th>11</th>\n",
       "      <td>2017</td>\n",
       "      <td>0.833563</td>\n",
       "    </tr>\n",
       "    <tr>\n",
       "      <th>12</th>\n",
       "      <td>2018</td>\n",
       "      <td>0.830117</td>\n",
       "    </tr>\n",
       "    <tr>\n",
       "      <th>13</th>\n",
       "      <td>2019</td>\n",
       "      <td>0.831026</td>\n",
       "    </tr>\n",
       "    <tr>\n",
       "      <th>14</th>\n",
       "      <td>2020</td>\n",
       "      <td>0.827873</td>\n",
       "    </tr>\n",
       "    <tr>\n",
       "      <th>15</th>\n",
       "      <td>2021</td>\n",
       "      <td>0.814775</td>\n",
       "    </tr>\n",
       "    <tr>\n",
       "      <th>16</th>\n",
       "      <td>2022</td>\n",
       "      <td>0.822241</td>\n",
       "    </tr>\n",
       "  </tbody>\n",
       "</table>\n",
       "</div>"
      ],
      "text/plain": [
       "    Year     index\n",
       "0   2006  0.842312\n",
       "1   2007  0.845325\n",
       "2   2008  0.839527\n",
       "3   2009  0.831542\n",
       "4   2010  0.825205\n",
       "5   2011  0.822862\n",
       "6   2012  0.831787\n",
       "7   2013  0.833588\n",
       "8   2014  0.834476\n",
       "9   2015  0.837290\n",
       "10  2016  0.837358\n",
       "11  2017  0.833563\n",
       "12  2018  0.830117\n",
       "13  2019  0.831026\n",
       "14  2020  0.827873\n",
       "15  2021  0.814775\n",
       "16  2022  0.822241"
      ]
     },
     "execution_count": 4,
     "metadata": {},
     "output_type": "execute_result"
    }
   ],
   "source": [
    "# get atlas df from WB\n",
    "atlas_df = pd.DataFrame(wb.get_series('NY.GNP.PCAP.CD', country='PR', simplify_index=True))\n",
    "atlas_df.reset_index(inplace=True)\n",
    "atlas_df.rename(columns={'NY.GNP.PCAP.CD': 'atlas'}, inplace=True)\n",
    "atlas_df['atlas'] = atlas_df['atlas'].astype(float)\n",
    "\n",
    "# get gni constant df from WB\n",
    "gni_df = pd.DataFrame(wb.get_series('NY.GNP.PCAP.PP.KD', country='PR', simplify_index=True))\n",
    "gni_df.reset_index(inplace=True)\n",
    "gni_df.rename(columns={'NY.GNP.PCAP.PP.KD': 'gni'}, inplace=True)\n",
    "gni_df['gni'] = gni_df['gni'].astype(float)\n",
    "\n",
    "# merge the two dataframes\n",
    "inc_df = atlas_df.merge(gni_df, on='Year')\n",
    "inc_df['income_ratio'] = inc_df['gni'] / inc_df['atlas']\n",
    "inc_df['income_ratio'] = inc_df['income_ratio'].astype(float)\n",
    "inc_df['Year'] = inc_df['Year'].astype(int)\n",
    "\n",
    "# merge the income index with the pnb.csv file\n",
    "pnb = pd.read_csv('/home/coder/Documents/GitHub/IDH-index/data/external/pnb.csv')\n",
    "merge_df = inc_df.merge(pnb, on='Year', how='left')\n",
    "merge_df = merge_df.dropna()\n",
    "merge_df.reset_index(inplace=True)\n",
    "merge_df.drop(['index'], axis=1, inplace=True)\n",
    "merge_df['index_temp'] = merge_df['income_ratio'] * merge_df['pnb']\n",
    "merge_df['index'] = (np.log(merge_df['index_temp']) - np.log(100)) / (np.log(70000)-np.log(100))\n",
    "merge_df = merge_df[['Year', 'index']]\n",
    "merge_df"
   ]
  },
  {
   "cell_type": "code",
   "execution_count": 21,
   "metadata": {},
   "outputs": [
    {
     "data": {
      "text/plain": [
       "597100.0"
      ]
     },
     "execution_count": 21,
     "metadata": {},
     "output_type": "execute_result"
    }
   ],
   "source": [
    "df_income = df1.copy()\n",
    "df_income = df_income['PINCP']\n",
    "#sort df_income\n",
    "df_income = df_income.sort_values(ascending=True)\n",
    "# remove values less than 1\n",
    "df_income = df_income[df_income > 1]\n",
    "# drop nan values\n",
    "df_income = df_income.dropna()\n",
    "df_income_bottom_5 = df_income[df_income <= df_income.quantile(0.005)]\n",
    "max_income = df_income_bottom_5.max()\n",
    "df_income.max()\n"
   ]
  },
  {
   "cell_type": "code",
   "execution_count": 20,
   "metadata": {},
   "outputs": [
    {
     "data": {
      "text/plain": [
       "300.0"
      ]
     },
     "execution_count": 20,
     "metadata": {},
     "output_type": "execute_result"
    }
   ],
   "source": [
    "dev = df_income.copy()\n",
    "# reset index\n",
    "dev['PINCP'] = dev['PINCP'].apply(lambda x: max_income if x <= max_income)"
   ]
  }
 ],
 "metadata": {
  "kernelspec": {
   "display_name": "research",
   "language": "python",
   "name": "python3"
  },
  "language_info": {
   "codemirror_mode": {
    "name": "ipython",
    "version": 3
   },
   "file_extension": ".py",
   "mimetype": "text/x-python",
   "name": "python",
   "nbconvert_exporter": "python",
   "pygments_lexer": "ipython3",
   "version": "3.10.13"
  }
 },
 "nbformat": 4,
 "nbformat_minor": 2
}
