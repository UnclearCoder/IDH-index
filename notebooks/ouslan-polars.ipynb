{
 "cells": [
  {
   "cell_type": "code",
   "execution_count": 1,
   "metadata": {},
   "outputs": [],
   "source": [
    "import pandas as pd\n",
    "import numpy as np\n",
    "import world_bank_data as wb\n",
    "import polars as pl\n",
    "from scipy.stats import gmean\n",
    "import os \n",
    "os.chdir('..')"
   ]
  },
  {
   "cell_type": "code",
   "execution_count": 2,
   "metadata": {},
   "outputs": [],
   "source": [
    "    def adjust(df):\n",
    "        \"\"\"\n",
    "        Function for calculating the adjustment coefficient using the atkinson's method\n",
    "\n",
    "        Parameters\n",
    "        ----------\n",
    "        df : <pd.DataFrame>\n",
    "            dataframe with the index of the idh index\n",
    "\n",
    "        Returns\n",
    "        -------\n",
    "        <float>\n",
    "            coefficient of the adjustment\n",
    "        <float>\n",
    "            mean of the index\n",
    "        <float>\n",
    "            geometric mean of the index\n",
    "        <float>\n",
    "            atkinson's coefficient of the index\n",
    "        \"\"\"\n",
    "        gemetric = gmean(df)\n",
    "        amean = df.mean()\n",
    "        atkinson = 1 - gemetric/amean\n",
    "        coef = 1 - atkinson\n",
    "        return coef, amean, gemetric, atkinson\n",
    "\n",
    "    def to_category(value):\n",
    "        mapping = {4:1, 5:2, 6:3, 7:4, 8:5, \n",
    "                   9:6, 10:7, 11:8, 2:9, 13:10,\n",
    "                   14: 11,15: 11, 16:12, 17:12, \n",
    "                   18:12.5, 19:13, 20:24, 21:16,\n",
    "        }\n",
    "        return mapping.get(value, 0) if value <= 21 else 18"
   ]
  },
  {
   "cell_type": "code",
   "execution_count": 3,
   "metadata": {},
   "outputs": [
    {
     "data": {
      "text/html": [
       "<div><style>\n",
       ".dataframe > thead > tr,\n",
       ".dataframe > tbody > tr {\n",
       "  text-align: right;\n",
       "  white-space: pre-wrap;\n",
       "}\n",
       "</style>\n",
       "<small>shape: (64, 2)</small><table border=\"1\" class=\"dataframe\"><thead><tr><th>Year</th><th>SP.DYN.LE00.IN</th></tr><tr><td>str</td><td>f64</td></tr></thead><tbody><tr><td>&quot;1960&quot;</td><td>68.934</td></tr><tr><td>&quot;1961&quot;</td><td>69.262</td></tr><tr><td>&quot;1962&quot;</td><td>69.284</td></tr><tr><td>&quot;1963&quot;</td><td>69.477</td></tr><tr><td>&quot;1964&quot;</td><td>69.693</td></tr><tr><td>&hellip;</td><td>&hellip;</td></tr><tr><td>&quot;2019&quot;</td><td>79.063</td></tr><tr><td>&quot;2020&quot;</td><td>78.041</td></tr><tr><td>&quot;2021&quot;</td><td>80.162</td></tr><tr><td>&quot;2022&quot;</td><td>null</td></tr><tr><td>&quot;2023&quot;</td><td>null</td></tr></tbody></table></div>"
      ],
      "text/plain": [
       "shape: (64, 2)\n",
       "┌──────┬────────────────┐\n",
       "│ Year ┆ SP.DYN.LE00.IN │\n",
       "│ ---  ┆ ---            │\n",
       "│ str  ┆ f64            │\n",
       "╞══════╪════════════════╡\n",
       "│ 1960 ┆ 68.934         │\n",
       "│ 1961 ┆ 69.262         │\n",
       "│ 1962 ┆ 69.284         │\n",
       "│ 1963 ┆ 69.477         │\n",
       "│ 1964 ┆ 69.693         │\n",
       "│ …    ┆ …              │\n",
       "│ 2019 ┆ 79.063         │\n",
       "│ 2020 ┆ 78.041         │\n",
       "│ 2021 ┆ 80.162         │\n",
       "│ 2022 ┆ null           │\n",
       "│ 2023 ┆ null           │\n",
       "└──────┴────────────────┘"
      ]
     },
     "execution_count": 3,
     "metadata": {},
     "output_type": "execute_result"
    }
   ],
   "source": [
    "df = pd.DataFrame(wb.get_series('SP.DYN.LE00.IN', country='PR', simplify_index=True))\n",
    "df = pl.from_pandas(df.reset_index())\n",
    "df"
   ]
  },
  {
   "cell_type": "code",
   "execution_count": 4,
   "metadata": {},
   "outputs": [
    {
     "data": {
      "text/html": [
       "<div><style>\n",
       ".dataframe > thead > tr,\n",
       ".dataframe > tbody > tr {\n",
       "  text-align: right;\n",
       "  white-space: pre-wrap;\n",
       "}\n",
       "</style>\n",
       "<small>shape: (64, 7)</small><table border=\"1\" class=\"dataframe\"><thead><tr><th>Year</th><th>life_exp</th><th>health_index</th><th>health_index_adjusted</th><th>arkinson</th><th>health_index_pct_change</th><th>health_index_adjusted_pct_change</th></tr><tr><td>i32</td><td>f64</td><td>f64</td><td>f64</td><td>f64</td><td>f64</td><td>f64</td></tr></thead><tbody><tr><td>1960</td><td>68.934</td><td>0.752831</td><td>0.692604</td><td>0.08</td><td>null</td><td>null</td></tr><tr><td>1961</td><td>69.262</td><td>0.757877</td><td>0.697247</td><td>0.08</td><td>0.670291</td><td>0.670291</td></tr><tr><td>1962</td><td>69.284</td><td>0.758215</td><td>0.697558</td><td>0.08</td><td>0.044659</td><td>0.044659</td></tr><tr><td>1963</td><td>69.477</td><td>0.761185</td><td>0.70029</td><td>0.08</td><td>0.391608</td><td>0.391608</td></tr><tr><td>1964</td><td>69.693</td><td>0.764508</td><td>0.703347</td><td>0.08</td><td>0.436566</td><td>0.436566</td></tr><tr><td>&hellip;</td><td>&hellip;</td><td>&hellip;</td><td>&hellip;</td><td>&hellip;</td><td>&hellip;</td><td>&hellip;</td></tr><tr><td>2019</td><td>79.063</td><td>0.908662</td><td>0.835969</td><td>0.08</td><td>-1.182868</td><td>-1.182868</td></tr><tr><td>2020</td><td>78.041</td><td>0.892938</td><td>0.821503</td><td>0.08</td><td>-1.730356</td><td>-1.730356</td></tr><tr><td>2021</td><td>80.162</td><td>0.925569</td><td>0.851524</td><td>0.08</td><td>3.654313</td><td>3.654313</td></tr><tr><td>2022</td><td>80.162</td><td>0.925569</td><td>0.851524</td><td>0.08</td><td>0.0</td><td>0.0</td></tr><tr><td>2023</td><td>80.162</td><td>0.925569</td><td>0.851524</td><td>0.08</td><td>0.0</td><td>0.0</td></tr></tbody></table></div>"
      ],
      "text/plain": [
       "shape: (64, 7)\n",
       "┌──────┬──────────┬──────────────┬──────────────────┬──────────┬─────────────────┬─────────────────┐\n",
       "│ Year ┆ life_exp ┆ health_index ┆ health_index_adj ┆ arkinson ┆ health_index_pc ┆ health_index_ad │\n",
       "│ ---  ┆ ---      ┆ ---          ┆ usted            ┆ ---      ┆ t_change        ┆ justed_pct_chan │\n",
       "│ i32  ┆ f64      ┆ f64          ┆ ---              ┆ f64      ┆ ---             ┆ ge              │\n",
       "│      ┆          ┆              ┆ f64              ┆          ┆ f64             ┆ ---             │\n",
       "│      ┆          ┆              ┆                  ┆          ┆                 ┆ f64             │\n",
       "╞══════╪══════════╪══════════════╪══════════════════╪══════════╪═════════════════╪═════════════════╡\n",
       "│ 1960 ┆ 68.934   ┆ 0.752831     ┆ 0.692604         ┆ 0.08     ┆ null            ┆ null            │\n",
       "│ 1961 ┆ 69.262   ┆ 0.757877     ┆ 0.697247         ┆ 0.08     ┆ 0.670291        ┆ 0.670291        │\n",
       "│ 1962 ┆ 69.284   ┆ 0.758215     ┆ 0.697558         ┆ 0.08     ┆ 0.044659        ┆ 0.044659        │\n",
       "│ 1963 ┆ 69.477   ┆ 0.761185     ┆ 0.70029          ┆ 0.08     ┆ 0.391608        ┆ 0.391608        │\n",
       "│ 1964 ┆ 69.693   ┆ 0.764508     ┆ 0.703347         ┆ 0.08     ┆ 0.436566        ┆ 0.436566        │\n",
       "│ …    ┆ …        ┆ …            ┆ …                ┆ …        ┆ …               ┆ …               │\n",
       "│ 2019 ┆ 79.063   ┆ 0.908662     ┆ 0.835969         ┆ 0.08     ┆ -1.182868       ┆ -1.182868       │\n",
       "│ 2020 ┆ 78.041   ┆ 0.892938     ┆ 0.821503         ┆ 0.08     ┆ -1.730356       ┆ -1.730356       │\n",
       "│ 2021 ┆ 80.162   ┆ 0.925569     ┆ 0.851524         ┆ 0.08     ┆ 3.654313        ┆ 3.654313        │\n",
       "│ 2022 ┆ 80.162   ┆ 0.925569     ┆ 0.851524         ┆ 0.08     ┆ 0.0             ┆ 0.0             │\n",
       "│ 2023 ┆ 80.162   ┆ 0.925569     ┆ 0.851524         ┆ 0.08     ┆ 0.0             ┆ 0.0             │\n",
       "└──────┴──────────┴──────────────┴──────────────────┴──────────┴─────────────────┴─────────────────┘"
      ]
     },
     "execution_count": 4,
     "metadata": {},
     "output_type": "execute_result"
    }
   ],
   "source": [
    "df = df.rename({\"SP.DYN.LE00.IN\":\"life_exp\"}).fill_null(strategy=\"forward\")\n",
    "df = df.with_columns(\n",
    "    pl.col(\"Year\").cast(pl.Int32),\n",
    "    ((pl.col(\"life_exp\") - 20) / (85-20)).alias(\"health_index\"),\n",
    "    (((pl.col(\"life_exp\") - 20) / (85-20)) * (1-0.08)).alias(\"health_index_adjusted\"),\n",
    "    arkinson=0.08\n",
    "    )\n",
    "df = df.with_columns(\n",
    "    (pl.col(\"health_index\").pct_change() * 100).alias(\"health_index_pct_change\"),\n",
    "    (pl.col(\"health_index_adjusted\").pct_change() * 100).alias(\"health_index_adjusted_pct_change\")\n",
    "    )\n",
    "df\n"
   ]
  },
  {
   "cell_type": "code",
   "execution_count": 5,
   "metadata": {},
   "outputs": [
    {
     "data": {
      "text/html": [
       "<div><style>\n",
       ".dataframe > thead > tr,\n",
       ".dataframe > tbody > tr {\n",
       "  text-align: right;\n",
       "  white-space: pre-wrap;\n",
       "}\n",
       "</style>\n",
       "<small>shape: (33, 2)</small><table border=\"1\" class=\"dataframe\"><thead><tr><th>Year</th><th>atlas</th></tr><tr><td>i32</td><td>i32</td></tr></thead><tbody><tr><td>1990</td><td>9470</td></tr><tr><td>1991</td><td>9950</td></tr><tr><td>1992</td><td>10240</td></tr><tr><td>1993</td><td>10820</td></tr><tr><td>1994</td><td>11250</td></tr><tr><td>&hellip;</td><td>&hellip;</td></tr><tr><td>2018</td><td>23470</td></tr><tr><td>2019</td><td>24410</td></tr><tr><td>2020</td><td>23370</td></tr><tr><td>2021</td><td>24800</td></tr><tr><td>2022</td><td>27840</td></tr></tbody></table></div>"
      ],
      "text/plain": [
       "shape: (33, 2)\n",
       "┌──────┬───────┐\n",
       "│ Year ┆ atlas │\n",
       "│ ---  ┆ ---   │\n",
       "│ i32  ┆ i32   │\n",
       "╞══════╪═══════╡\n",
       "│ 1990 ┆ 9470  │\n",
       "│ 1991 ┆ 9950  │\n",
       "│ 1992 ┆ 10240 │\n",
       "│ 1993 ┆ 10820 │\n",
       "│ 1994 ┆ 11250 │\n",
       "│ …    ┆ …     │\n",
       "│ 2018 ┆ 23470 │\n",
       "│ 2019 ┆ 24410 │\n",
       "│ 2020 ┆ 23370 │\n",
       "│ 2021 ┆ 24800 │\n",
       "│ 2022 ┆ 27840 │\n",
       "└──────┴───────┘"
      ]
     },
     "execution_count": 5,
     "metadata": {},
     "output_type": "execute_result"
    }
   ],
   "source": [
    "# get atlas df from WB (change names)\n",
    "atlas_df = pl.from_pandas(pd.DataFrame(wb.get_series('NY.GNP.PCAP.PP.CD', country='PR', simplify_index=True).reset_index()))\n",
    "atlas_df = atlas_df.rename({\"NY.GNP.PCAP.PP.CD\": \"atlas\"}).drop_nulls()\n",
    "atlas_df = atlas_df.with_columns(\n",
    "    pl.col(\"Year\").cast(pl.Int32),\n",
    "    pl.col(\"atlas\").cast(pl.Int32)\n",
    "    )\n",
    "atlas_df"
   ]
  },
  {
   "cell_type": "code",
   "execution_count": 6,
   "metadata": {},
   "outputs": [
    {
     "data": {
      "text/html": [
       "<div><style>\n",
       ".dataframe > thead > tr,\n",
       ".dataframe > tbody > tr {\n",
       "  text-align: right;\n",
       "  white-space: pre-wrap;\n",
       "}\n",
       "</style>\n",
       "<small>shape: (33, 2)</small><table border=\"1\" class=\"dataframe\"><thead><tr><th>Year</th><th>atlas</th></tr><tr><td>i32</td><td>i32</td></tr></thead><tbody><tr><td>1990</td><td>9470</td></tr><tr><td>1991</td><td>9950</td></tr><tr><td>1992</td><td>10240</td></tr><tr><td>1993</td><td>10820</td></tr><tr><td>1994</td><td>11250</td></tr><tr><td>&hellip;</td><td>&hellip;</td></tr><tr><td>2018</td><td>23470</td></tr><tr><td>2019</td><td>24410</td></tr><tr><td>2020</td><td>23370</td></tr><tr><td>2021</td><td>24800</td></tr><tr><td>2022</td><td>27840</td></tr></tbody></table></div>"
      ],
      "text/plain": [
       "shape: (33, 2)\n",
       "┌──────┬───────┐\n",
       "│ Year ┆ atlas │\n",
       "│ ---  ┆ ---   │\n",
       "│ i32  ┆ i32   │\n",
       "╞══════╪═══════╡\n",
       "│ 1990 ┆ 9470  │\n",
       "│ 1991 ┆ 9950  │\n",
       "│ 1992 ┆ 10240 │\n",
       "│ 1993 ┆ 10820 │\n",
       "│ 1994 ┆ 11250 │\n",
       "│ …    ┆ …     │\n",
       "│ 2018 ┆ 23470 │\n",
       "│ 2019 ┆ 24410 │\n",
       "│ 2020 ┆ 23370 │\n",
       "│ 2021 ┆ 24800 │\n",
       "│ 2022 ┆ 27840 │\n",
       "└──────┴───────┘"
      ]
     },
     "execution_count": 6,
     "metadata": {},
     "output_type": "execute_result"
    }
   ],
   "source": [
    "# get gni constant df from WB\n",
    "gni_df = pl.from_pandas(pd.DataFrame(wb.get_series('NY.GNP.PCAP.PP.KD', country='PR', simplify_index=True).reset_index()))\n",
    "gni_df = gni_df.rename({'NY.GNP.PCAP.PP.KD': 'gni'})\n",
    "gni_df = gni_df.with_columns(pl.col(\"Year\").cast(pl.Int32))\n",
    "atlas_df"
   ]
  },
  {
   "cell_type": "code",
   "execution_count": 137,
   "metadata": {},
   "outputs": [],
   "source": [
    "# adjust values (polars)\n",
    "adjusted_df = pl.DataFrame({\n",
    "    \"Year\": [],\n",
    "    \"coef\": [],\n",
    "    \"atkinson\": []\n",
    "})\n",
    "for file in os.listdir('data/raw/'):\n",
    "    if file.startswith('data_hpr'):\n",
    "        adjust_df = pl.read_csv(\"data/raw/data_hpr_2012_raw.csv\")\n",
    "        adjust_df = adjust_df.select(pl.col(\"HINCP\").drop_nulls())\n",
    "        adjust_df = adjust_df.sort(\"HINCP\")\n",
    "        adjust_df = adjust_df.filter(pl.col(\"HINCP\") > 0)\n",
    "\n",
    "        # replace bottom 0.5% \n",
    "        bottom_max = adjust_df.select(pl.col(\"HINCP\").quantile(0.005))\n",
    "        adjust_df = adjust_df.select(\n",
    "            pl.when(pl.col(\"HINCP\") < bottom_max)\n",
    "            .then(bottom_max)\n",
    "            .otherwise(pl.col(\"HINCP\")).alias(\"HINCP\")\n",
    "        )\n",
    "\n",
    "        # drop top 0.5%\n",
    "        adjust_df = adjust_df.filter(\n",
    "            pl.col(\"HINCP\") <= pl.col(\"HINCP\").quantile(0.995))\n",
    "        coef, amean, gemetric, atkinson = adjust(adjust_df)\n"
   ]
  },
  {
   "cell_type": "code",
   "execution_count": 136,
   "metadata": {},
   "outputs": [
    {
     "data": {
      "text/plain": [
       "0.6211303111584582"
      ]
     },
     "execution_count": 136,
     "metadata": {},
     "output_type": "execute_result"
    }
   ],
   "source": [
    "\n",
    "adjust_df = pl.read_csv(\"data/raw/data_hpr_2012_raw.csv\")\n",
    "adjust_df = adjust_df.select(pl.col(\"HINCP\").drop_nulls())\n",
    "adjust_df = adjust_df.sort(\"HINCP\")\n",
    "adjust_df = adjust_df.filter(pl.col(\"HINCP\") > 0)\n",
    "\n",
    "# replace bottom 0.5% \n",
    "bottom_max = adjust_df.select(pl.col(\"HINCP\").quantile(0.005))\n",
    "adjust_df = adjust_df.select(\n",
    "    pl.when(pl.col(\"HINCP\") < bottom_max)\n",
    "    .then(bottom_max)\n",
    "    .otherwise(pl.col(\"HINCP\")).alias(\"HINCP\")\n",
    ")\n",
    "\n",
    "# drop top 0.5%\n",
    "adjust_df = adjust_df.filter(\n",
    "    pl.col(\"HINCP\") <= pl.col(\"HINCP\").quantile(0.995))\n",
    "coef, amean, gemetric, atkinson = adjust(adjust_df)\n"
   ]
  },
  {
   "cell_type": "code",
   "execution_count": 129,
   "metadata": {},
   "outputs": [
    {
     "data": {
      "text/plain": [
       "0.6211757650334937"
      ]
     },
     "execution_count": 129,
     "metadata": {},
     "output_type": "execute_result"
    }
   ],
   "source": [
    "adjust_df = pd.read_csv(\"data/raw/data_hpr_2012_raw.csv\")\n",
    "adjust_df = adjust_df['HINCP'] # use HINCS\n",
    "adjust_df = adjust_df.sort_values(ascending=True)\n",
    "adjust_df = adjust_df[adjust_df > 0]\n",
    "adjust_df = adjust_df.dropna()\n",
    "bottom_5 = adjust_df[adjust_df <= adjust_df.quantile(0.005)]\n",
    "bottom_max = bottom_5.max()\n",
    "# replace bottom 5% with the max value\n",
    "adjust_df = adjust_df.apply(lambda x: x if x > bottom_max else bottom_max)\n",
    "# remove top 0.5%\n",
    "adjust_df = adjust_df[adjust_df <= adjust_df.quantile(0.995)]\n",
    "adjust_df.reset_index(drop=True, inplace=True)\n",
    "coef, amean, gemetric, atkinson = adjust(adjust_df)\n",
    "coef"
   ]
  },
  {
   "cell_type": "code",
   "execution_count": 138,
   "metadata": {},
   "outputs": [
    {
     "name": "stderr",
     "output_type": "stream",
     "text": [
      "/tmp/ipykernel_22129/3476718831.py:5: DtypeWarning: Columns (1) have mixed types. Specify dtype option on import or set low_memory=False.\n",
      "  adjust_df = pd.read_csv('data/raw/' + file)\n",
      "/tmp/ipykernel_22129/3476718831.py:5: DtypeWarning: Columns (1) have mixed types. Specify dtype option on import or set low_memory=False.\n",
      "  adjust_df = pd.read_csv('data/raw/' + file)\n",
      "/tmp/ipykernel_22129/3476718831.py:5: DtypeWarning: Columns (1) have mixed types. Specify dtype option on import or set low_memory=False.\n",
      "  adjust_df = pd.read_csv('data/raw/' + file)\n",
      "/tmp/ipykernel_22129/3476718831.py:5: DtypeWarning: Columns (1) have mixed types. Specify dtype option on import or set low_memory=False.\n",
      "  adjust_df = pd.read_csv('data/raw/' + file)\n"
     ]
    }
   ],
   "source": [
    "# adjust values\n",
    "adjusted_df = pd.DataFrame([], columns=['Year', 'coef', 'atkinson'])\n",
    "for file in os.listdir('data/raw/'):\n",
    "    if file.startswith('data_hpr'):\n",
    "        adjust_df = pd.read_csv('data/raw/' + file)\n",
    "        adjust_df = adjust_df['HINCP'] # use HINCS\n",
    "        adjust_df = adjust_df.sort_values(ascending=True)\n",
    "        adjust_df = adjust_df[adjust_df > 0]\n",
    "        adjust_df = adjust_df.dropna()\n",
    "        bottom_5 = adjust_df[adjust_df <= adjust_df.quantile(0.005)]\n",
    "        bottom_max = bottom_5.max()\n",
    "        # replace bottom 5% with the max value\n",
    "        adjust_df = adjust_df.apply(lambda x: x if x > bottom_max else bottom_max)\n",
    "        # remove top 0.5%\n",
    "        adjust_df = adjust_df[adjust_df <= adjust_df.quantile(0.995)]\n",
    "        adjust_df = adjust_df.dropna()\n",
    "        # get coefficient of ajustment\n",
    "        coef, amean, gemetric, atkinson = adjust(adjust_df)\n",
    "        adjusted_df = pd.concat([adjusted_df if not adjusted_df.empty else None,\n",
    "                                pd.DataFrame([[int(file.split('_')[2]), coef, atkinson]], \n",
    "                                                columns=['Year', 'coef', 'atkinson'])])"
   ]
  },
  {
   "cell_type": "code",
   "execution_count": null,
   "metadata": {},
   "outputs": [],
   "source": [
    "# get atlas df from WB (change names)\n",
    "atlas_df = pd.DataFrame(wb.get_series('NY.GNP.PCAP.PP.CD', country='PR', simplify_index=True))\n",
    "atlas_df.reset_index(inplace=True)\n",
    "atlas_df.rename(columns={'NY.GNP.PCAP.PP.CD': 'atlas'}, inplace=True)\n",
    "atlas_df['atlas'] = atlas_df['atlas'].astype(float)\n",
    "\n",
    "# get gni constant df from WB\n",
    "gni_df = pd.DataFrame(wb.get_series('NY.GNP.PCAP.PP.KD', country='PR', simplify_index=True))\n",
    "gni_df.reset_index(inplace=True)\n",
    "gni_df.rename(columns={'NY.GNP.PCAP.PP.KD': 'gni'}, inplace=True)\n",
    "gni_df['gni'] = gni_df['gni'].astype(float)\n",
    "# replace value 20\n",
    "\n",
    "# ajust the index\n",
    "ajusted_df = pd.DataFrame([], columns=['Year', 'coef', 'atkinson'])\n",
    "for file in os.listdir('data/raw/'):\n",
    "    if file.startswith('data_hpr'):\n",
    "        ajust_df = pd.read_csv('data/raw/' + file, engine=\"pyarrow\")\n",
    "        ajust_df = ajust_df['HINCP'] # use HINCS\n",
    "        ajust_df = ajust_df.sort_values(ascending=True)\n",
    "        ajust_df = ajust_df[ajust_df > 0]\n",
    "        ajust_df = ajust_df.dropna()\n",
    "        bottom_5 = ajust_df[ajust_df <= ajust_df.quantile(0.005)]\n",
    "        bottom_max = bottom_5.max()\n",
    "        # replace bottom 5% with the max value\n",
    "        ajust_df = ajust_df.apply(lambda x: x if x > bottom_max else bottom_max)\n",
    "        # remove top 0.5%\n",
    "        ajust_df = ajust_df[ajust_df <= ajust_df.quantile(0.995)]\n",
    "        ajust_df = ajust_df.dropna()\n",
    "        # get coefficient of ajustment\n",
    "        coef, amean, gemetric, atkinson = self.adjust(ajust_df)\n",
    "        ajusted_df = pd.concat([ajusted_df if not ajusted_df.empty else None,\n",
    "                                pd.DataFrame([[int(file.split('_')[2]), coef, atkinson]], \n",
    "                                                columns=['Year', 'coef', 'atkinson'])])\n",
    "# merge the two dataframes\n",
    "inc_df = atlas_df.merge(gni_df, on='Year')\n",
    "inc_df['income_ratio'] = inc_df['gni'] / inc_df['atlas']\n",
    "inc_df['income_ratio'] = inc_df['income_ratio'].astype(float)\n",
    "inc_df['Year'] = inc_df['Year'].astype(int)\n",
    "\n",
    "# merge the income index with the pnb.csv file\n",
    "pnb = pd.read_csv('data/external/pnb.csv')\n",
    "merge_df = inc_df.merge(pnb, on='Year', how='left')\n",
    "merge_df = merge_df.dropna()\n",
    "merge_df.reset_index(inplace=True)\n",
    "merge_df.drop(['index'], axis=1, inplace=True)\n",
    "\n",
    "# calculate the index\n",
    "merge_df['index'] = (np.log(merge_df['pnb']) - np.log(100)) / (np.log(75000)-np.log(100))\n",
    "merge_df = merge_df[['Year', 'index']]\n",
    "merge_df = merge_df.sort_values(by='Year', ascending=True)\n",
    "merge_df = merge_df.merge(ajusted_df, on='Year', how='left')\n",
    "merge_df['income_index_ajusted'] = merge_df['coef'] * merge_df['index']\n",
    "merge_df.drop(['coef'], axis=1, inplace=True)\n",
    "# growth rate for income index and adjusted income index\n",
    "merge_df['growth_rate_income_index'] = merge_df['index'].pct_change() * 100\n",
    "merge_df['growth_rate_income_index_ajusted'] = merge_df['income_index_ajusted'].pct_change() * 100\n"
   ]
  }
 ],
 "metadata": {
  "kernelspec": {
   "display_name": "research_env",
   "language": "python",
   "name": "python3"
  },
  "language_info": {
   "codemirror_mode": {
    "name": "ipython",
    "version": 3
   },
   "file_extension": ".py",
   "mimetype": "text/x-python",
   "name": "python",
   "nbconvert_exporter": "python",
   "pygments_lexer": "ipython3",
   "version": "3.12.3"
  }
 },
 "nbformat": 4,
 "nbformat_minor": 2
}
