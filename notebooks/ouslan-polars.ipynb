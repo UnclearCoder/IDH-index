{
 "cells": [
  {
   "cell_type": "code",
   "execution_count": 3,
   "metadata": {
    "metadata": {}
   },
   "outputs": [],
   "source": [
    "import pandas as pd\n",
    "import numpy as np\n",
    "import world_bank_data as wb\n",
    "import polars as pl\n",
    "from scipy.stats import gmean\n",
    "import os \n",
    "os.chdir('..')"
   ]
  },
  {
   "cell_type": "code",
   "execution_count": 1,
   "metadata": {
    "metadata": {}
   },
   "outputs": [],
   "source": [
    "    def adjust(df):\n",
    "        \"\"\"\n",
    "        Function for calculating the adjustment coefficient using the atkinson's method\n",
    "\n",
    "        Parameters\n",
    "        ----------\n",
    "        df : <pd.DataFrame>\n",
    "            dataframe with the index of the idh index\n",
    "\n",
    "        Returns\n",
    "        -------\n",
    "        <float>\n",
    "            coefficient of the adjustment\n",
    "        <float>\n",
    "            mean of the index\n",
    "        <float>\n",
    "            geometric mean of the index\n",
    "        <float>\n",
    "            atkinson's coefficient of the index\n",
    "        \"\"\"\n",
    "        gemetric = gmean(df)\n",
    "        amean = df.mean()\n",
    "        atkinson = 1 - gemetric/amean\n",
    "        coef = 1 - atkinson\n",
    "        return coef, amean, gemetric, atkinson\n",
    "\n",
    "    def to_category(value):\n",
    "        mapping = {4:1, 5:2, 6:3, 7:4, 8:5, \n",
    "                   9:6, 10:7, 11:8, 2:9, 13:10,\n",
    "                   14: 11,15: 11, 16:12, 17:12, \n",
    "                   18:12.5, 19:13, 20:24, 21:16,\n",
    "        }\n",
    "        return mapping.get(value, 0) if value <= 21 else 18"
   ]
  },
  {
   "cell_type": "code",
   "execution_count": 4,
   "metadata": {
    "metadata": {}
   },
   "outputs": [],
   "source": [
    "# create the dataframe and loop through the files\n",
    "empty_df = [\n",
    "    pl.Series(\"Year\", [], dtype=pl.Int64),\n",
    "    pl.Series(\"edu_index\", [], dtype=pl.Float64),\n",
    "    pl.Series(\"edu_index_adjusted\", [], dtype=pl.Float64),\n",
    "]\n",
    "edu_index = pl.DataFrame(empty_df).clear()\n",
    "\n",
    "for file in os.listdir('data/raw/'):\n",
    "    if file.startswith('data_ppr'):\n",
    "        df = pl.read_csv(f\"data/raw/{file}\",ignore_errors=True)\n",
    "        df = df.select(pl.col(\"AGEP\", \"SCH\", \"SCHL\"))"
   ]
  },
  {
   "cell_type": "code",
   "execution_count": 7,
   "metadata": {
    "metadata": {}
   },
   "outputs": [
    {
     "data": {
      "text/html": [
       "<div><style>\n",
       ".dataframe > thead > tr,\n",
       ".dataframe > tbody > tr {\n",
       "  text-align: right;\n",
       "  white-space: pre-wrap;\n",
       "}\n",
       "</style>\n",
       "<small>shape: (97_162, 4)</small><table border=\"1\" class=\"dataframe\"><thead><tr><th>AGEP</th><th>SCH</th><th>SCHL</th><th>schooling</th></tr><tr><td>i64</td><td>i64</td><td>i64</td><td>f64</td></tr></thead><tbody><tr><td>32</td><td>1</td><td>14</td><td>11.0</td></tr><tr><td>62</td><td>1</td><td>6</td><td>3.0</td></tr><tr><td>67</td><td>1</td><td>9</td><td>6.0</td></tr><tr><td>49</td><td>1</td><td>19</td><td>13.0</td></tr><tr><td>51</td><td>1</td><td>16</td><td>12.0</td></tr><tr><td>&hellip;</td><td>&hellip;</td><td>&hellip;</td><td>&hellip;</td></tr><tr><td>33</td><td>1</td><td>20</td><td>14.0</td></tr><tr><td>72</td><td>1</td><td>11</td><td>8.0</td></tr><tr><td>75</td><td>1</td><td>8</td><td>5.0</td></tr><tr><td>57</td><td>1</td><td>13</td><td>10.0</td></tr><tr><td>56</td><td>1</td><td>16</td><td>12.0</td></tr></tbody></table></div>"
      ],
      "text/plain": [
       "shape: (97_162, 4)\n",
       "┌──────┬─────┬──────┬───────────┐\n",
       "│ AGEP ┆ SCH ┆ SCHL ┆ schooling │\n",
       "│ ---  ┆ --- ┆ ---  ┆ ---       │\n",
       "│ i64  ┆ i64 ┆ i64  ┆ f64       │\n",
       "╞══════╪═════╪══════╪═══════════╡\n",
       "│ 32   ┆ 1   ┆ 14   ┆ 11.0      │\n",
       "│ 62   ┆ 1   ┆ 6    ┆ 3.0       │\n",
       "│ 67   ┆ 1   ┆ 9    ┆ 6.0       │\n",
       "│ 49   ┆ 1   ┆ 19   ┆ 13.0      │\n",
       "│ 51   ┆ 1   ┆ 16   ┆ 12.0      │\n",
       "│ …    ┆ …   ┆ …    ┆ …         │\n",
       "│ 33   ┆ 1   ┆ 20   ┆ 14.0      │\n",
       "│ 72   ┆ 1   ┆ 11   ┆ 8.0       │\n",
       "│ 75   ┆ 1   ┆ 8    ┆ 5.0       │\n",
       "│ 57   ┆ 1   ┆ 13   ┆ 10.0      │\n",
       "│ 56   ┆ 1   ┆ 16   ┆ 12.0      │\n",
       "└──────┴─────┴──────┴───────────┘"
      ]
     },
     "execution_count": 7,
     "metadata": {},
     "output_type": "execute_result"
    }
   ],
   "source": [
    "df = pl.read_csv(\"data/raw/data_ppr_2020_raw.csv\", ignore_errors=True)\n",
    "df = df.select(pl.col(\"AGEP\", \"SCH\", \"SCHL\"))\n",
    "\n",
    "# calcualte the mean of years of schooling\n",
    "edu_sch = df.filter(pl.col(\"AGEP\") >= 25)\n",
    "edu_sch = edu_sch.with_columns(\n",
    "    pl.when(pl.col(\"SCHL\") < 4).then(0)\n",
    "      .when(pl.col(\"SCHL\") == 4).then(1)\n",
    "      .when(pl.col(\"SCHL\") == 5).then(2)\n",
    "      .when(pl.col(\"SCHL\") == 6).then(3)\n",
    "      .when(pl.col(\"SCHL\") == 7).then(4)\n",
    "      .when(pl.col(\"SCHL\") == 8).then(5)\n",
    "      .when(pl.col(\"SCHL\") == 9).then(6)\n",
    "      .when(pl.col(\"SCHL\") == 10).then(7)\n",
    "      .when(pl.col(\"SCHL\") == 11).then(8)\n",
    "      .when(pl.col(\"SCHL\") == 12).then(9)\n",
    "      .when(pl.col(\"SCHL\") == 13).then(10)\n",
    "      .when(pl.col(\"SCHL\") == 14).then(11)\n",
    "      .when(pl.col(\"SCHL\") == 15).then(11)\n",
    "      .when(pl.col(\"SCHL\") == 16).then(12)\n",
    "      .when(pl.col(\"SCHL\") == 17).then(12)\n",
    "      .when(pl.col(\"SCHL\") == 18).then(12.5)\n",
    "      .when(pl.col(\"SCHL\") == 19).then(13)\n",
    "      .when(pl.col(\"SCHL\") == 20).then(14)\n",
    "      .when(pl.col(\"SCHL\") == 21).then(16)\n",
    "      .otherwise(18).alias(\"schooling\")\n",
    ")\n",
    "edu_sch\n"
   ]
  },
  {
   "cell_type": "code",
   "execution_count": 13,
   "metadata": {
    "metadata": {}
   },
   "outputs": [
    {
     "data": {
      "text/html": [
       "<div><style>\n",
       ".dataframe > thead > tr,\n",
       ".dataframe > tbody > tr {\n",
       "  text-align: right;\n",
       "  white-space: pre-wrap;\n",
       "}\n",
       "</style>\n",
       "<small>shape: (1,)</small><table border=\"1\" class=\"dataframe\"><thead><tr><th>schooling</th></tr><tr><td>f64</td></tr></thead><tbody><tr><td>12.227718</td></tr></tbody></table></div>"
      ],
      "text/plain": [
       "shape: (1,)\n",
       "Series: 'schooling' [f64]\n",
       "[\n",
       "\t12.227718\n",
       "]"
      ]
     },
     "execution_count": 13,
     "metadata": {},
     "output_type": "execute_result"
    }
   ],
   "source": [
    "edu_sch = edu_sch.with_columns(\n",
    "    pl.when(pl.col(\"schooling\") > 1).then(1).otherwise(0).alias(\"enroled\")\n",
    ")\n",
    "\n",
    "# get coeficient of ajustment\n",
    "mean =  edu_sch.select(pl.col(\"schooling\")).mean()\n",
    "mean"
   ]
  },
  {
   "cell_type": "code",
   "execution_count": null,
   "metadata": {},
   "outputs": [],
   "source": [
    "edu_sch['scholing'] = edu_sch['SCHL']\n",
    "edu_sch.reset_index(inplace=True)\n",
    "edu_sch['scholing'] = edu_sch['scholing'].apply(lambda x: self.to_category(x))\n",
    "edu_sch['enroled'] = np.where(edu_sch['scholing'] > 1, 1, 0)\n",
    "mean_sch = edu_sch['scholing'].mean()"
   ]
  },
  {
   "cell_type": "code",
   "execution_count": null,
   "metadata": {},
   "outputs": [],
   "source": [
    "# create the dataframe and loop through the files\n",
    "edu_index = pd.DataFrame([],columns=['Year', 'edu_index', 'edu_index_ajusted'])\n",
    "for file in os.listdir(folder_path):\n",
    "    if file.startswith('data_ppr'):\n",
    "        df = pd.read_csv(folder_path + file, engine=\"pyarrow\")\n",
    "        df = df[['AGEP', 'SCH', 'SCHL']]\n",
    "        \n",
    "        # calcualte the mean of years of schooling\n",
    "        edu_sch = df[df['AGEP'] >= 25].copy()\n",
    "        edu_sch['scholing'] = edu_sch['SCHL']\n",
    "        edu_sch.reset_index(inplace=True)\n",
    "        edu_sch['scholing'] = edu_sch['scholing'].apply(lambda x: self.to_category(x))\n",
    "        edu_sch['enroled'] = np.where(edu_sch['scholing'] > 1, 1, 0)\n",
    "        mean_sch = edu_sch['scholing'].mean()\n",
    "\n",
    "        # get coeficient of ajustment\n",
    "        edu_sch['no_zero_schooling'] = 1 + edu_sch['scholing']\n",
    "        coef, amean, gemetric, atkinson = self.adjust(edu_sch['no_zero_schooling'])\n",
    "\n",
    "        # calculate the expected years of schooling\n",
    "        edu_exp = df[df['AGEP'] < 25].copy()\n",
    "        edu_exp['enrolled'] = edu_exp['SCH'].apply(lambda x: 1 if x > 1 else 0)\n",
    "        edu_age = edu_exp.groupby(['AGEP'])[['AGEP','enrolled']].count()\n",
    "        edu_age['enrolled'] = edu_exp.groupby(['AGEP'])['enrolled'].sum()\n",
    "        edu_age['enrollment_rate'] = edu_age['enrolled'] / edu_age['AGEP']\n",
    "        edu_age = edu_age.rename (columns = {'AGEP': 'count'})\n",
    "        edu_age = edu_age.reset_index()\n",
    "        edu_age.drop([0,1,2,3,4], inplace=True)\n",
    "        exp_sch = edu_age['enrollment_rate'].sum()\n",
    "\n",
    "        # calculate index\n",
    "        edu_value = (mean_sch/15 + exp_sch/18) / 2\n",
    "        edu_value_ajusted = coef * edu_value\n",
    "        year = file.split('_')[2]\n",
    "        edu_index = pd.concat([\n",
    "            edu_index if not edu_index.empty else None,\n",
    "            pd.DataFrame([[year, edu_value, edu_value_ajusted, atkinson, mean_sch, exp_sch]], columns=['Year', 'edu_index', 'edu_index_ajusted', 'atkinson', \"Mean years of schooling\", \"Expected years of schooling\"])], ignore_index=True)\n",
    "        edu_index = edu_index.sort_values(by='Year', ascending=True)\n",
    "    else:\n",
    "        continue\n",
    "# growth rate for edu index & edu index ajusted\n",
    "edu_index['growth_rate'] = edu_index['edu_index'].pct_change() * 100\n",
    "edu_index['growth_rate_ajusted'] = edu_index['edu_index_ajusted'].pct_change() * 100\n",
    "if debug:\n",
    "    return edu_index    \n",
    "else:\n",
    "    # round to 2 decimals\n",
    "    # edu_index = edu_index.round(2)\n",
    "    edu_index.to_csv('data/processed/edu_index.csv', index=False)"
   ]
  }
 ],
 "metadata": {
  "kernelspec": {
   "display_name": "research_env",
   "language": "python",
   "name": "python3"
  },
  "language_info": {
   "codemirror_mode": {
    "name": "ipython",
    "version": 3
   },
   "file_extension": ".py",
   "mimetype": "text/x-python",
   "name": "python",
   "nbconvert_exporter": "python",
   "pygments_lexer": "ipython3",
   "version": "3.12.3"
  }
 },
 "nbformat": 4,
 "nbformat_minor": 2
}
