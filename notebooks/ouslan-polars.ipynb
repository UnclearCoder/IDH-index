{
 "cells": [
  {
   "cell_type": "code",
   "execution_count": 1,
   "metadata": {},
   "outputs": [],
   "source": [
    "import pandas as pd\n",
    "import numpy as np\n",
    "import world_bank_data as wb\n",
    "import polars as pl\n",
    "from scipy.stats import gmean\n",
    "import os \n",
    "os.chdir('..')"
   ]
  },
  {
   "cell_type": "code",
   "execution_count": 3,
   "metadata": {},
   "outputs": [],
   "source": [
    "    def adjust(df):\n",
    "        \"\"\"\n",
    "        Function for calculating the adjustment coefficient using the atkinson's method\n",
    "\n",
    "        Parameters\n",
    "        ----------\n",
    "        df : <pd.DataFrame>\n",
    "            dataframe with the index of the idh index\n",
    "\n",
    "        Returns\n",
    "        -------\n",
    "        <float>\n",
    "            coefficient of the adjustment\n",
    "        <float>\n",
    "            mean of the index\n",
    "        <float>\n",
    "            geometric mean of the index\n",
    "        <float>\n",
    "            atkinson's coefficient of the index\n",
    "        \"\"\"\n",
    "        gemetric = gmean(df)\n",
    "        amean = df.mean()\n",
    "        atkinson = 1 - gemetric/amean\n",
    "        coef = 1 - atkinson\n",
    "        return coef, amean, gemetric, atkinson\n",
    "\n",
    "    def to_category(value):\n",
    "        mapping = {4:1, 5:2, 6:3, 7:4, 8:5, \n",
    "                   9:6, 10:7, 11:8, 2:9, 13:10,\n",
    "                   14: 11,15: 11, 16:12, 17:12, \n",
    "                   18:12.5, 19:13, 20:24, 21:16,\n",
    "        }\n",
    "        return mapping.get(value, 0) if value <= 21 else 18"
   ]
  },
  {
   "cell_type": "code",
   "execution_count": 8,
   "metadata": {},
   "outputs": [
    {
     "data": {
      "text/html": [
       "<div><style>\n",
       ".dataframe > thead > tr,\n",
       ".dataframe > tbody > tr {\n",
       "  text-align: right;\n",
       "  white-space: pre-wrap;\n",
       "}\n",
       "</style>\n",
       "<small>shape: (0, 3)</small><table border=\"1\" class=\"dataframe\"><thead><tr><th>Year</th><th>edu_index</th><th>edu_index_adjusted</th></tr><tr><td>i64</td><td>f64</td><td>f64</td></tr></thead><tbody></tbody></table></div>"
      ],
      "text/plain": [
       "shape: (0, 3)\n",
       "┌──────┬───────────┬────────────────────┐\n",
       "│ Year ┆ edu_index ┆ edu_index_adjusted │\n",
       "│ ---  ┆ ---       ┆ ---                │\n",
       "│ i64  ┆ f64       ┆ f64                │\n",
       "╞══════╪═══════════╪════════════════════╡\n",
       "└──────┴───────────┴────────────────────┘"
      ]
     },
     "execution_count": 8,
     "metadata": {},
     "output_type": "execute_result"
    }
   ],
   "source": [
    "# create the dataframe and loop through the files\n",
    "empty_df = [\n",
    "    pl.Series(\"Year\", [], dtype=pl.Int64),\n",
    "    pl.Series(\"edu_index\", [], dtype=pl.Float64),\n",
    "    pl.Series(\"edu_index_adjusted\", [], dtype=pl.Float64),\n",
    "]\n",
    "edu_index = pl.DataFrame(empty_df).clear()\n",
    "\n",
    "for file in os.listdir('data/raw/'):\n",
    "    if file.startswith('data_ppr'):\n",
    "        df = pl.read_csv(f\"data/raw/{file}\",ignore_errors=True)\n",
    "        df = df.select(pl.col(\"AGEP\", \"SCH\", \"SCHL\"))"
   ]
  },
  {
   "cell_type": "code",
   "execution_count": 17,
   "metadata": {},
   "outputs": [
    {
     "name": "stderr",
     "output_type": "stream",
     "text": [
      "sys:1: MapWithoutReturnDtypeWarning: Calling `map_elements` without specifying `return_dtype` can lead to unpredictable results. Specify `return_dtype` to silence this warning.\n",
      "sys:1: MapWithoutReturnDtypeWarning: Calling `map_elements` without specifying `return_dtype` can lead to unpredictable results. Specify `return_dtype` to silence this warning.\n",
      "sys:1: MapWithoutReturnDtypeWarning: Calling `map_elements` without specifying `return_dtype` can lead to unpredictable results. Specify `return_dtype` to silence this warning.\n",
      "sys:1: MapWithoutReturnDtypeWarning: Calling `map_elements` without specifying `return_dtype` can lead to unpredictable results. Specify `return_dtype` to silence this warning.\n",
      "sys:1: MapWithoutReturnDtypeWarning: Calling `map_elements` without specifying `return_dtype` can lead to unpredictable results. Specify `return_dtype` to silence this warning.\n",
      "sys:1: MapWithoutReturnDtypeWarning: Calling `map_elements` without specifying `return_dtype` can lead to unpredictable results. Specify `return_dtype` to silence this warning.\n",
      "sys:1: MapWithoutReturnDtypeWarning: Calling `map_elements` without specifying `return_dtype` can lead to unpredictable results. Specify `return_dtype` to silence this warning.\n",
      "sys:1: MapWithoutReturnDtypeWarning: Calling `map_elements` without specifying `return_dtype` can lead to unpredictable results. Specify `return_dtype` to silence this warning.\n",
      "sys:1: MapWithoutReturnDtypeWarning: Calling `map_elements` without specifying `return_dtype` can lead to unpredictable results. Specify `return_dtype` to silence this warning.\n",
      "sys:1: MapWithoutReturnDtypeWarning: Calling `map_elements` without specifying `return_dtype` can lead to unpredictable results. Specify `return_dtype` to silence this warning.\n",
      "sys:1: MapWithoutReturnDtypeWarning: Calling `map_elements` without specifying `return_dtype` can lead to unpredictable results. Specify `return_dtype` to silence this warning.\n",
      "sys:1: MapWithoutReturnDtypeWarning: Calling `map_elements` without specifying `return_dtype` can lead to unpredictable results. Specify `return_dtype` to silence this warning.\n",
      "sys:1: MapWithoutReturnDtypeWarning: Calling `map_elements` without specifying `return_dtype` can lead to unpredictable results. Specify `return_dtype` to silence this warning.\n",
      "sys:1: MapWithoutReturnDtypeWarning: Calling `map_elements` without specifying `return_dtype` can lead to unpredictable results. Specify `return_dtype` to silence this warning.\n",
      "sys:1: MapWithoutReturnDtypeWarning: Calling `map_elements` without specifying `return_dtype` can lead to unpredictable results. Specify `return_dtype` to silence this warning.\n",
      "sys:1: MapWithoutReturnDtypeWarning: Calling `map_elements` without specifying `return_dtype` can lead to unpredictable results. Specify `return_dtype` to silence this warning.\n"
     ]
    },
    {
     "ename": "ComputeError",
     "evalue": "AttributeError: 'int' object has no attribute 'shift'",
     "output_type": "error",
     "traceback": [
      "\u001b[0;31m---------------------------------------------------------------------------\u001b[0m",
      "\u001b[0;31mComputeError\u001b[0m                              Traceback (most recent call last)",
      "\u001b[1;32m/home/coder/Documents/Github/IDH-index/notebooks/ouslan-polars.ipynb Cell 4\u001b[0m line \u001b[0;36m6\n\u001b[1;32m      <a href='vscode-notebook-cell:/home/coder/Documents/Github/IDH-index/notebooks/ouslan-polars.ipynb#X20sZmlsZQ%3D%3D?line=3'>4</a>\u001b[0m \u001b[39m# calcualte the mean of years of schooling\u001b[39;00m\n\u001b[1;32m      <a href='vscode-notebook-cell:/home/coder/Documents/Github/IDH-index/notebooks/ouslan-polars.ipynb#X20sZmlsZQ%3D%3D?line=4'>5</a>\u001b[0m edu_sch \u001b[39m=\u001b[39m df\u001b[39m.\u001b[39mfilter(pl\u001b[39m.\u001b[39mcol(\u001b[39m\"\u001b[39m\u001b[39mAGEP\u001b[39m\u001b[39m\"\u001b[39m) \u001b[39m>\u001b[39m\u001b[39m=\u001b[39m \u001b[39m25\u001b[39m)\n\u001b[0;32m----> <a href='vscode-notebook-cell:/home/coder/Documents/Github/IDH-index/notebooks/ouslan-polars.ipynb#X20sZmlsZQ%3D%3D?line=5'>6</a>\u001b[0m edu_sch \u001b[39m=\u001b[39m edu_sch\u001b[39m.\u001b[39;49mwith_columns(\n\u001b[1;32m      <a href='vscode-notebook-cell:/home/coder/Documents/Github/IDH-index/notebooks/ouslan-polars.ipynb#X20sZmlsZQ%3D%3D?line=6'>7</a>\u001b[0m     pl\u001b[39m.\u001b[39;49mcol(\u001b[39m\"\u001b[39;49m\u001b[39mSCHL\u001b[39;49m\u001b[39m\"\u001b[39;49m)\u001b[39m.\u001b[39;49mmap_elements(\u001b[39mlambda\u001b[39;49;00m s: to_category(s)\u001b[39m.\u001b[39;49mshift())\u001b[39m.\u001b[39;49malias(\u001b[39m\"\u001b[39;49m\u001b[39mtest\u001b[39;49m\u001b[39m\"\u001b[39;49m)\n\u001b[1;32m      <a href='vscode-notebook-cell:/home/coder/Documents/Github/IDH-index/notebooks/ouslan-polars.ipynb#X20sZmlsZQ%3D%3D?line=7'>8</a>\u001b[0m )\n\u001b[1;32m      <a href='vscode-notebook-cell:/home/coder/Documents/Github/IDH-index/notebooks/ouslan-polars.ipynb#X20sZmlsZQ%3D%3D?line=8'>9</a>\u001b[0m edu_sch\n",
      "File \u001b[0;32m~/miniforge3/envs/research_env/lib/python3.12/site-packages/polars/dataframe/frame.py:7874\u001b[0m, in \u001b[0;36mDataFrame.with_columns\u001b[0;34m(self, *exprs, **named_exprs)\u001b[0m\n\u001b[1;32m   7728\u001b[0m \u001b[39mdef\u001b[39;00m \u001b[39mwith_columns\u001b[39m(\n\u001b[1;32m   7729\u001b[0m     \u001b[39mself\u001b[39m,\n\u001b[1;32m   7730\u001b[0m     \u001b[39m*\u001b[39mexprs: IntoExpr \u001b[39m|\u001b[39m Iterable[IntoExpr],\n\u001b[1;32m   7731\u001b[0m     \u001b[39m*\u001b[39m\u001b[39m*\u001b[39mnamed_exprs: IntoExpr,\n\u001b[1;32m   7732\u001b[0m ) \u001b[39m-\u001b[39m\u001b[39m>\u001b[39m DataFrame:\n\u001b[1;32m   7733\u001b[0m \u001b[39m    \u001b[39m\u001b[39m\"\"\"\u001b[39;00m\n\u001b[1;32m   7734\u001b[0m \u001b[39m    Add columns to this DataFrame.\u001b[39;00m\n\u001b[1;32m   7735\u001b[0m \n\u001b[0;32m   (...)\u001b[0m\n\u001b[1;32m   7872\u001b[0m \u001b[39m    └─────┴──────┴─────────────┘\u001b[39;00m\n\u001b[1;32m   7873\u001b[0m \u001b[39m    \"\"\"\u001b[39;00m\n\u001b[0;32m-> 7874\u001b[0m     \u001b[39mreturn\u001b[39;00m \u001b[39mself\u001b[39;49m\u001b[39m.\u001b[39;49mlazy()\u001b[39m.\u001b[39;49mwith_columns(\u001b[39m*\u001b[39;49mexprs, \u001b[39m*\u001b[39;49m\u001b[39m*\u001b[39;49mnamed_exprs)\u001b[39m.\u001b[39;49mcollect(_eager\u001b[39m=\u001b[39;49m\u001b[39mTrue\u001b[39;49;00m)\n",
      "File \u001b[0;32m~/miniforge3/envs/research_env/lib/python3.12/site-packages/polars/lazyframe/frame.py:1708\u001b[0m, in \u001b[0;36mLazyFrame.collect\u001b[0;34m(self, type_coercion, predicate_pushdown, projection_pushdown, simplify_expression, slice_pushdown, comm_subplan_elim, comm_subexpr_elim, no_optimization, streaming, background, _eager)\u001b[0m\n\u001b[1;32m   1705\u001b[0m \u001b[39mif\u001b[39;00m background:\n\u001b[1;32m   1706\u001b[0m     \u001b[39mreturn\u001b[39;00m InProcessQuery(ldf\u001b[39m.\u001b[39mcollect_concurrently())\n\u001b[0;32m-> 1708\u001b[0m \u001b[39mreturn\u001b[39;00m wrap_df(ldf\u001b[39m.\u001b[39;49mcollect())\n",
      "\u001b[0;31mComputeError\u001b[0m: AttributeError: 'int' object has no attribute 'shift'"
     ]
    }
   ],
   "source": [
    "df = pl.read_csv(\"data/raw/data_ppr_2020_raw.csv\", ignore_errors=True)\n",
    "df = df.select(pl.col(\"AGEP\", \"SCH\", \"SCHL\"))\n",
    "\n",
    "# calcualte the mean of years of schooling\n",
    "edu_sch = df.filter(pl.col(\"AGEP\") >= 25)\n",
    "edu_sch = edu_sch.with_columns(\n",
    "    pl.when(pl.col(\"SCHL\") == 4).then(1)\n",
    "      .when(pl.col(\"SCHL\") == 5).then(2)\n",
    "      .when(pl.col(\"SCHL\") == 6).then(3)\n",
    "      .when(pl.col(\"SCHL\") == 7).then(4)\n",
    "      .when(pl.col(\"SCHL\") == 8).then(5)\n",
    "      .when(pl.col(\"SCHL\") == 9).then(6)\n",
    "      .when(pl.col(\"SCHL\") == 10).then(7)\n",
    "      .when(pl.col(\"SCHL\") == 11).then(8)\n",
    "      .when(pl.col(\"SCHL\") == 12).then(9)\n",
    "      .when(pl.col(\"SCHL\") == 13).then(10)\n",
    "      .when(pl.col(\"SCHL\") == 14).then(11)\n",
    "      .when(pl.col(\"SCHL\") == 15).then(11)\n",
    "      .when(pl.col(\"SCHL\") == 16).then(12)\n",
    "      .when(pl.col(\"SCHL\") == 17).then(12)\n",
    "      .when(pl.col(\"SCHL\") == 18).then(12.5)\n",
    "      .when(pl.col(\"SCHL\") == 19).then(13)\n",
    "      .when(pl.col(\"SCHL\") == 20).then(14)\n",
    "      .when(pl.col(\"SCHL\") == 21).then(16)\n",
    "      .when(pl.col(\"\n",
    ")\n",
    "edu_sch\n"
   ]
  },
  {
   "cell_type": "code",
   "execution_count": null,
   "metadata": {},
   "outputs": [],
   "source": [
    "edu_sch['scholing'] = edu_sch['SCHL']\n",
    "edu_sch.reset_index(inplace=True)\n",
    "edu_sch['scholing'] = edu_sch['scholing'].apply(lambda x: self.to_category(x))\n",
    "edu_sch['enroled'] = np.where(edu_sch['scholing'] > 1, 1, 0)\n",
    "mean_sch = edu_sch['scholing'].mean()"
   ]
  },
  {
   "cell_type": "code",
   "execution_count": null,
   "metadata": {},
   "outputs": [],
   "source": [
    "# create the dataframe and loop through the files\n",
    "edu_index = pd.DataFrame([],columns=['Year', 'edu_index', 'edu_index_ajusted'])\n",
    "for file in os.listdir(folder_path):\n",
    "    if file.startswith('data_ppr'):\n",
    "        df = pd.read_csv(folder_path + file, engine=\"pyarrow\")\n",
    "        df = df[['AGEP', 'SCH', 'SCHL']]\n",
    "        \n",
    "        # calcualte the mean of years of schooling\n",
    "        edu_sch = df[df['AGEP'] >= 25].copy()\n",
    "        edu_sch['scholing'] = edu_sch['SCHL']\n",
    "        edu_sch.reset_index(inplace=True)\n",
    "        edu_sch['scholing'] = edu_sch['scholing'].apply(lambda x: self.to_category(x))\n",
    "        edu_sch['enroled'] = np.where(edu_sch['scholing'] > 1, 1, 0)\n",
    "        mean_sch = edu_sch['scholing'].mean()\n",
    "\n",
    "        # get coeficient of ajustment\n",
    "        edu_sch['no_zero_schooling'] = 1 + edu_sch['scholing']\n",
    "        coef, amean, gemetric, atkinson = self.adjust(edu_sch['no_zero_schooling'])\n",
    "\n",
    "        # calculate the expected years of schooling\n",
    "        edu_exp = df[df['AGEP'] < 25].copy()\n",
    "        edu_exp['enrolled'] = edu_exp['SCH'].apply(lambda x: 1 if x > 1 else 0)\n",
    "        edu_age = edu_exp.groupby(['AGEP'])[['AGEP','enrolled']].count()\n",
    "        edu_age['enrolled'] = edu_exp.groupby(['AGEP'])['enrolled'].sum()\n",
    "        edu_age['enrollment_rate'] = edu_age['enrolled'] / edu_age['AGEP']\n",
    "        edu_age = edu_age.rename (columns = {'AGEP': 'count'})\n",
    "        edu_age = edu_age.reset_index()\n",
    "        edu_age.drop([0,1,2,3,4], inplace=True)\n",
    "        exp_sch = edu_age['enrollment_rate'].sum()\n",
    "\n",
    "        # calculate index\n",
    "        edu_value = (mean_sch/15 + exp_sch/18) / 2\n",
    "        edu_value_ajusted = coef * edu_value\n",
    "        year = file.split('_')[2]\n",
    "        edu_index = pd.concat([\n",
    "            edu_index if not edu_index.empty else None,\n",
    "            pd.DataFrame([[year, edu_value, edu_value_ajusted, atkinson, mean_sch, exp_sch]], columns=['Year', 'edu_index', 'edu_index_ajusted', 'atkinson', \"Mean years of schooling\", \"Expected years of schooling\"])], ignore_index=True)\n",
    "        edu_index = edu_index.sort_values(by='Year', ascending=True)\n",
    "    else:\n",
    "        continue\n",
    "# growth rate for edu index & edu index ajusted\n",
    "edu_index['growth_rate'] = edu_index['edu_index'].pct_change() * 100\n",
    "edu_index['growth_rate_ajusted'] = edu_index['edu_index_ajusted'].pct_change() * 100\n",
    "if debug:\n",
    "    return edu_index    \n",
    "else:\n",
    "    # round to 2 decimals\n",
    "    # edu_index = edu_index.round(2)\n",
    "    edu_index.to_csv('data/processed/edu_index.csv', index=False)"
   ]
  }
 ],
 "metadata": {
  "kernelspec": {
   "display_name": "research_env",
   "language": "python",
   "name": "python3"
  },
  "language_info": {
   "codemirror_mode": {
    "name": "ipython",
    "version": 3
   },
   "file_extension": ".py",
   "mimetype": "text/x-python",
   "name": "python",
   "nbconvert_exporter": "python",
   "pygments_lexer": "ipython3",
   "version": "3.12.3"
  }
 },
 "nbformat": 4,
 "nbformat_minor": 2
}
