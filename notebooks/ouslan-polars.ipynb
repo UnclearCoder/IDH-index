{
 "cells": [
  {
   "cell_type": "code",
   "execution_count": 1,
   "metadata": {},
   "outputs": [],
   "source": [
    "import pandas as pd\n",
    "import numpy as np\n",
    "import world_bank_data as wb\n",
    "import polars as pl\n",
    "from scipy.stats import gmean\n",
    "import os \n",
    "os.chdir('..')"
   ]
  },
  {
   "cell_type": "code",
   "execution_count": 2,
   "metadata": {},
   "outputs": [],
   "source": [
    "    def adjust(df):\n",
    "        \"\"\"\n",
    "        Function for calculating the adjustment coefficient using the atkinson's method\n",
    "\n",
    "        Parameters\n",
    "        ----------\n",
    "        df : <pd.DataFrame>\n",
    "            dataframe with the index of the idh index\n",
    "\n",
    "        Returns\n",
    "        -------\n",
    "        <float>\n",
    "            coefficient of the adjustment\n",
    "        <float>\n",
    "            mean of the index\n",
    "        <float>\n",
    "            geometric mean of the index\n",
    "        <float>\n",
    "            atkinson's coefficient of the index\n",
    "        \"\"\"\n",
    "        gemetric = gmean(df)\n",
    "        amean = df.mean()\n",
    "        atkinson = 1 - gemetric/amean\n",
    "        coef = 1 - atkinson\n",
    "        return coef, amean, gemetric, atkinson\n",
    "\n",
    "    def to_category(value):\n",
    "        mapping = {4:1, 5:2, 6:3, 7:4, 8:5, \n",
    "                   9:6, 10:7, 11:8, 2:9, 13:10,\n",
    "                   14: 11,15: 11, 16:12, 17:12, \n",
    "                   18:12.5, 19:13, 20:24, 21:16,\n",
    "        }\n",
    "        return mapping.get(value, 0) if value <= 21 else 18"
   ]
  },
  {
   "cell_type": "code",
   "execution_count": null,
   "metadata": {},
   "outputs": [],
   "source": [
    "df = pd.DataFrame(wb.get_series('SP.DYN.LE00.IN', country='PR', simplify_index=True))\n",
    "df = pl.from_pandas(df.reset_index())\n",
    "df"
   ]
  },
  {
   "cell_type": "code",
   "execution_count": null,
   "metadata": {},
   "outputs": [],
   "source": [
    "df = df.rename({\"SP.DYN.LE00.IN\":\"life_exp\"}).fill_null(strategy=\"forward\")\n",
    "df = df.with_columns(\n",
    "    pl.col(\"Year\").cast(pl.Int64),\n",
    "    ((pl.col(\"life_exp\") - 20) / (85-20)).alias(\"health_index\"),\n",
    "    (((pl.col(\"life_exp\") - 20) / (85-20)) * (1-0.08)).alias(\"health_index_adjusted\"),\n",
    "    arkinson=0.08\n",
    "    )\n",
    "df = df.with_columns(\n",
    "    (pl.col(\"health_index\").pct_change() * 100).alias(\"health_index_pct_change\"),\n",
    "    (pl.col(\"health_index_adjusted\").pct_change() * 100).alias(\"health_index_adjusted_pct_change\")\n",
    "    )\n",
    "df\n"
   ]
  },
  {
   "cell_type": "markdown",
   "metadata": {},
   "source": [
    "# Income idex"
   ]
  },
  {
   "cell_type": "code",
   "execution_count": null,
   "metadata": {},
   "outputs": [],
   "source": [
    "# get atlas df from WB (change names)\n",
    "atlas_df = pl.from_pandas(pd.DataFrame(wb.get_series('NY.GNP.PCAP.PP.CD', country='PR', simplify_index=True).reset_index()))\n",
    "atlas_df = atlas_df.rename({\"NY.GNP.PCAP.PP.CD\": \"atlas\"}).drop_nulls()\n",
    "atlas_df = atlas_df.with_columns(\n",
    "    pl.col(\"Year\").cast(pl.Int64),\n",
    "    pl.col(\"atlas\").cast(pl.Int64)\n",
    "    )\n",
    "atlas_df"
   ]
  },
  {
   "cell_type": "code",
   "execution_count": null,
   "metadata": {},
   "outputs": [],
   "source": [
    "# get gni constant df from WB\n",
    "gni_df = pl.from_pandas(pd.DataFrame(wb.get_series('NY.GNP.PCAP.PP.KD', country='PR', simplify_index=True).reset_index()))\n",
    "gni_df = gni_df.rename({'NY.GNP.PCAP.PP.KD': 'gni'})\n",
    "gni_df = gni_df.with_columns(pl.col(\"Year\").cast(pl.Int64))\n",
    "atlas_df"
   ]
  },
  {
   "cell_type": "code",
   "execution_count": null,
   "metadata": {},
   "outputs": [],
   "source": [
    "# adjust the income index\n",
    "adjusted_df = pl.DataFrame({\n",
    "    \"Year\": [1],\n",
    "    \"coef\": [1.1],\n",
    "    \"atkinson\": [1.1],\n",
    "}).clear()\n",
    "\n",
    "for file in os.listdir('data/raw/'):\n",
    "    if file.startswith('data_hpr'):\n",
    "        adjust_df = pl.read_csv(\"data/raw/data_hpr_2012_raw.csv\")\n",
    "        adjust_df = adjust_df.select(pl.col(\"HINCP\").drop_nulls())\n",
    "        adjust_df = adjust_df.sort(\"HINCP\")\n",
    "        adjust_df = adjust_df.filter(pl.col(\"HINCP\") > 0)\n",
    "\n",
    "        # replace bottom 0.5% \n",
    "        bottom_max = adjust_df.select(pl.col(\"HINCP\").quantile(0.005))\n",
    "        adjust_df = adjust_df.select(\n",
    "            pl.when(pl.col(\"HINCP\") < bottom_max)\n",
    "            .then(bottom_max)\n",
    "            .otherwise(pl.col(\"HINCP\")).alias(\"HINCP\")\n",
    "        )\n",
    "\n",
    "        # drop top 0.5%\n",
    "        adjust_df = adjust_df.filter(\n",
    "            pl.col(\"HINCP\") <= pl.col(\"HINCP\").quantile(0.995))\n",
    "        # get coefficient of adjustmet\n",
    "        coef, amean, gemetric, atkinson = adjust(adjust_df)\n",
    "        tmp_df = pl.DataFrame({\n",
    "            \"Year\": int(file.split('_')[2]),\n",
    "            \"coef\": coef[0][0],\n",
    "            \"atkinson\": atkinson[0][0],\n",
    "        })\n",
    "\n",
    "        adjusted_df = pl.concat([adjusted_df, tmp_df], how=\"vertical\")\n"
   ]
  },
  {
   "cell_type": "code",
   "execution_count": null,
   "metadata": {},
   "outputs": [],
   "source": [
    "# merge the two dataframes\n",
    "inc_df = atlas_df.join(gni_df, on='Year')\n",
    "inc_df = inc_df.with_columns(\n",
    "    (pl.col(\"gni\") / pl.col(\"atlas\")).alias(\"income_ratio\"))\n"
   ]
  },
  {
   "cell_type": "code",
   "execution_count": null,
   "metadata": {},
   "outputs": [],
   "source": [
    "# merge the income index with the pnb.csv file\n",
    "pnb = pl.read_csv('data/external/pnb.csv')\n",
    "merge_df = inc_df.join(pnb, on='Year', how='left').drop_nulls()\n",
    "merge_df = merge_df.join(adjusted_df, on='Year', how='left')\n"
   ]
  },
  {
   "cell_type": "code",
   "execution_count": null,
   "metadata": {},
   "outputs": [],
   "source": [
    "# calculate the index\n",
    "merge_df =  merge_df.with_columns(\n",
    "    ((np.log(pl.col('pnb')) - np.log(100)) / (np.log(75000)-np.log(100))).alias('index'))\n",
    "merge_df = merge_df.with_columns(\n",
    "    (pl.col(\"index\") * pl.col(\"coef\")).alias(\"income_index_ajusted\"))\n",
    "merge_df = merge_df.select(pl.col(\"Year\", \"index\", \"income_index_ajusted\")).drop_nulls()\n",
    "merge_df"
   ]
  },
  {
   "cell_type": "code",
   "execution_count": 4,
   "metadata": {},
   "outputs": [],
   "source": [
    "# get atlas df from WB (change names)\n",
    "atlas_df = pl.from_pandas(pd.DataFrame(wb.get_series('NY.GNP.PCAP.PP.CD', country='PR', simplify_index=True).reset_index()))\n",
    "atlas_df = atlas_df.rename({\"NY.GNP.PCAP.PP.CD\": \"atlas\"}).drop_nulls()\n",
    "atlas_df = atlas_df.with_columns(\n",
    "    pl.col(\"Year\").cast(pl.Int64),\n",
    "    pl.col(\"atlas\").cast(pl.Int64))\n",
    "\n",
    "# get gni constant df from WB\n",
    "gni_df = pl.from_pandas(pd.DataFrame(wb.get_series('NY.GNP.PCAP.PP.KD', country='PR', simplify_index=True).reset_index()))\n",
    "gni_df = gni_df.rename({'NY.GNP.PCAP.PP.KD': 'gni'})\n",
    "gni_df = gni_df.with_columns(pl.col(\"Year\").cast(pl.Int64))\n",
    "\n",
    "# adjust the income index\n",
    "adjusted_df = pl.DataFrame({\"Year\": [1],\"coef\": [1.1],\"atkinson\": [1.1],}).clear()\n",
    "\n",
    "for file in os.listdir('data/raw/'):\n",
    "    if file.startswith('data_hpr'):\n",
    "        adjust_df = pl.read_csv(\"data/raw/data_hpr_2012_raw.csv\")\n",
    "        adjust_df = adjust_df.select(pl.col(\"HINCP\").drop_nulls())\n",
    "        adjust_df = adjust_df.sort(\"HINCP\")\n",
    "        adjust_df = adjust_df.filter(pl.col(\"HINCP\") > 0)\n",
    "\n",
    "        # replace bottom 0.5% \n",
    "        bottom_max = adjust_df.select(pl.col(\"HINCP\").quantile(0.005))\n",
    "        adjust_df = adjust_df.select(\n",
    "            pl.when(pl.col(\"HINCP\") < bottom_max)\n",
    "            .then(bottom_max)\n",
    "            .otherwise(pl.col(\"HINCP\")).alias(\"HINCP\"))\n",
    "\n",
    "        # drop top 0.5%\n",
    "        adjust_df = adjust_df.filter(\n",
    "            pl.col(\"HINCP\") <= pl.col(\"HINCP\").quantile(0.995))\n",
    "            \n",
    "        # get coefficient of adjustmet\n",
    "        coef, amean, gemetric, atkinson = adjust(adjust_df)\n",
    "        tmp_df = pl.DataFrame({\n",
    "            \"Year\": int(file.split('_')[2]),\n",
    "            \"coef\": coef[0][0],\n",
    "            \"atkinson\": atkinson[0][0]})\n",
    "\n",
    "        adjusted_df = pl.concat([adjusted_df, tmp_df], how=\"vertical\")\n",
    "\n",
    "# merge the two dataframes\n",
    "inc_df = atlas_df.join(gni_df, on='Year')\n",
    "inc_df = inc_df.with_columns(\n",
    "    (pl.col(\"gni\") / pl.col(\"atlas\")).alias(\"income_ratio\"))\n",
    "\n",
    "# merge the income index with the pnb.csv file\n",
    "pnb = pl.read_csv('data/external/pnb.csv')\n",
    "merge_df = inc_df.join(pnb, on='Year', how='left').drop_nulls()\n",
    "merge_df = merge_df.join(adjusted_df, on='Year', how='left')\n",
    "\n",
    "# calculate the index\n",
    "merge_df =  merge_df.with_columns(\n",
    "    ((np.log(pl.col('pnb')) - np.log(100)) / (np.log(75000)-np.log(100))).alias('index'))\n",
    "merge_df = merge_df.with_columns(\n",
    "    (pl.col(\"index\") * pl.col(\"coef\")).alias(\"income_index_ajusted\"))\n",
    "merge_df = merge_df.select(pl.col(\"Year\", \"index\", \"income_index_ajusted\")).drop_nulls()"
   ]
  }
 ],
 "metadata": {
  "kernelspec": {
   "display_name": "research_env",
   "language": "python",
   "name": "python3"
  },
  "language_info": {
   "codemirror_mode": {
    "name": "ipython",
    "version": 3
   },
   "file_extension": ".py",
   "mimetype": "text/x-python",
   "name": "python",
   "nbconvert_exporter": "python",
   "pygments_lexer": "ipython3",
   "version": "3.12.3"
  }
 },
 "nbformat": 4,
 "nbformat_minor": 2
}
