{
 "cells": [
  {
   "cell_type": "code",
   "execution_count": 2,
   "metadata": {},
   "outputs": [],
   "source": [
    "import pandas as pd\n",
    "import numpy as np\n",
    "import world_bank_data as wb\n",
    "import matplotlib.pyplot as plt\n",
    "import seaborn as sns\n",
    "import plotly.graph_objects as go"
   ]
  },
  {
   "cell_type": "code",
   "execution_count": 3,
   "metadata": {},
   "outputs": [
    {
     "data": {
      "text/html": [
       "<div>\n",
       "<style scoped>\n",
       "    .dataframe tbody tr th:only-of-type {\n",
       "        vertical-align: middle;\n",
       "    }\n",
       "\n",
       "    .dataframe tbody tr th {\n",
       "        vertical-align: top;\n",
       "    }\n",
       "\n",
       "    .dataframe thead th {\n",
       "        text-align: right;\n",
       "    }\n",
       "</style>\n",
       "<table border=\"1\" class=\"dataframe\">\n",
       "  <thead>\n",
       "    <tr style=\"text-align: right;\">\n",
       "      <th></th>\n",
       "      <th>Year</th>\n",
       "      <th>health_index</th>\n",
       "      <th>health_index_ajusted</th>\n",
       "      <th>income_index</th>\n",
       "      <th>income_index_ajusted</th>\n",
       "      <th>edu_index</th>\n",
       "      <th>edu_index_ajusted</th>\n",
       "      <th>index</th>\n",
       "      <th>index_ajusted</th>\n",
       "    </tr>\n",
       "  </thead>\n",
       "  <tbody>\n",
       "    <tr>\n",
       "      <th>0</th>\n",
       "      <td>2012</td>\n",
       "      <td>0.899400</td>\n",
       "      <td>0.827448</td>\n",
       "      <td>0.831787</td>\n",
       "      <td>0.516686</td>\n",
       "      <td>0.870069</td>\n",
       "      <td>0.795716</td>\n",
       "      <td>0.866642</td>\n",
       "      <td>0.698085</td>\n",
       "    </tr>\n",
       "    <tr>\n",
       "      <th>1</th>\n",
       "      <td>2013</td>\n",
       "      <td>0.904262</td>\n",
       "      <td>0.831921</td>\n",
       "      <td>0.833588</td>\n",
       "      <td>0.519005</td>\n",
       "      <td>0.874715</td>\n",
       "      <td>0.803020</td>\n",
       "      <td>0.870370</td>\n",
       "      <td>0.702522</td>\n",
       "    </tr>\n",
       "    <tr>\n",
       "      <th>2</th>\n",
       "      <td>2014</td>\n",
       "      <td>0.906600</td>\n",
       "      <td>0.834072</td>\n",
       "      <td>0.834476</td>\n",
       "      <td>0.518684</td>\n",
       "      <td>0.878686</td>\n",
       "      <td>0.809714</td>\n",
       "      <td>0.872746</td>\n",
       "      <td>0.704930</td>\n",
       "    </tr>\n",
       "    <tr>\n",
       "      <th>3</th>\n",
       "      <td>2015</td>\n",
       "      <td>0.918385</td>\n",
       "      <td>0.844914</td>\n",
       "      <td>0.837290</td>\n",
       "      <td>0.517402</td>\n",
       "      <td>0.883700</td>\n",
       "      <td>0.815823</td>\n",
       "      <td>0.879161</td>\n",
       "      <td>0.709162</td>\n",
       "    </tr>\n",
       "    <tr>\n",
       "      <th>4</th>\n",
       "      <td>2016</td>\n",
       "      <td>0.927231</td>\n",
       "      <td>0.853052</td>\n",
       "      <td>0.837358</td>\n",
       "      <td>0.516822</td>\n",
       "      <td>0.887798</td>\n",
       "      <td>0.821028</td>\n",
       "      <td>0.883360</td>\n",
       "      <td>0.712675</td>\n",
       "    </tr>\n",
       "    <tr>\n",
       "      <th>5</th>\n",
       "      <td>2017</td>\n",
       "      <td>0.911662</td>\n",
       "      <td>0.838729</td>\n",
       "      <td>0.833563</td>\n",
       "      <td>0.509906</td>\n",
       "      <td>0.890900</td>\n",
       "      <td>0.824727</td>\n",
       "      <td>0.878079</td>\n",
       "      <td>0.706546</td>\n",
       "    </tr>\n",
       "    <tr>\n",
       "      <th>6</th>\n",
       "      <td>2018</td>\n",
       "      <td>0.919538</td>\n",
       "      <td>0.845975</td>\n",
       "      <td>0.830117</td>\n",
       "      <td>0.509720</td>\n",
       "      <td>0.894792</td>\n",
       "      <td>0.830009</td>\n",
       "      <td>0.880664</td>\n",
       "      <td>0.709998</td>\n",
       "    </tr>\n",
       "    <tr>\n",
       "      <th>7</th>\n",
       "      <td>2019</td>\n",
       "      <td>0.908662</td>\n",
       "      <td>0.835969</td>\n",
       "      <td>0.831026</td>\n",
       "      <td>0.509063</td>\n",
       "      <td>0.899722</td>\n",
       "      <td>0.835791</td>\n",
       "      <td>0.879107</td>\n",
       "      <td>0.708522</td>\n",
       "    </tr>\n",
       "    <tr>\n",
       "      <th>8</th>\n",
       "      <td>2020</td>\n",
       "      <td>0.892938</td>\n",
       "      <td>0.821503</td>\n",
       "      <td>0.827873</td>\n",
       "      <td>0.509702</td>\n",
       "      <td>0.903831</td>\n",
       "      <td>0.842131</td>\n",
       "      <td>0.874227</td>\n",
       "      <td>0.706483</td>\n",
       "    </tr>\n",
       "    <tr>\n",
       "      <th>9</th>\n",
       "      <td>2021</td>\n",
       "      <td>0.925569</td>\n",
       "      <td>0.851524</td>\n",
       "      <td>0.814775</td>\n",
       "      <td>0.502051</td>\n",
       "      <td>0.906417</td>\n",
       "      <td>0.847123</td>\n",
       "      <td>0.880896</td>\n",
       "      <td>0.712793</td>\n",
       "    </tr>\n",
       "  </tbody>\n",
       "</table>\n",
       "</div>"
      ],
      "text/plain": [
       "   Year  health_index  health_index_ajusted  income_index  \\\n",
       "0  2012      0.899400              0.827448      0.831787   \n",
       "1  2013      0.904262              0.831921      0.833588   \n",
       "2  2014      0.906600              0.834072      0.834476   \n",
       "3  2015      0.918385              0.844914      0.837290   \n",
       "4  2016      0.927231              0.853052      0.837358   \n",
       "5  2017      0.911662              0.838729      0.833563   \n",
       "6  2018      0.919538              0.845975      0.830117   \n",
       "7  2019      0.908662              0.835969      0.831026   \n",
       "8  2020      0.892938              0.821503      0.827873   \n",
       "9  2021      0.925569              0.851524      0.814775   \n",
       "\n",
       "   income_index_ajusted  edu_index  edu_index_ajusted     index  index_ajusted  \n",
       "0              0.516686   0.870069           0.795716  0.866642       0.698085  \n",
       "1              0.519005   0.874715           0.803020  0.870370       0.702522  \n",
       "2              0.518684   0.878686           0.809714  0.872746       0.704930  \n",
       "3              0.517402   0.883700           0.815823  0.879161       0.709162  \n",
       "4              0.516822   0.887798           0.821028  0.883360       0.712675  \n",
       "5              0.509906   0.890900           0.824727  0.878079       0.706546  \n",
       "6              0.509720   0.894792           0.830009  0.880664       0.709998  \n",
       "7              0.509063   0.899722           0.835791  0.879107       0.708522  \n",
       "8              0.509702   0.903831           0.842131  0.874227       0.706483  \n",
       "9              0.502051   0.906417           0.847123  0.880896       0.712793  "
      ]
     },
     "execution_count": 3,
     "metadata": {},
     "output_type": "execute_result"
    }
   ],
   "source": [
    "df = pd.read_csv('/Volumes/Nergigante/Project_Anarchy/Coding/GitHub/IDH-index/data/processed/idh_index.csv')\n",
    "df"
   ]
  },
  {
   "cell_type": "code",
   "execution_count": 7,
   "metadata": {},
   "outputs": [
    {
     "data": {
      "application/vnd.plotly.v1+json": {
       "config": {
        "plotlyServerURL": "https://plot.ly"
       },
       "data": [
        {
         "mode": "lines",
         "name": "IDH",
         "type": "scatter",
         "x": [
          2012,
          2013,
          2014,
          2015,
          2016,
          2017,
          2018,
          2019,
          2020,
          2021
         ],
         "y": [
          0.8666419287685057,
          0.8703703479662789,
          0.8727455119498565,
          0.8791609161439388,
          0.883359975498326,
          0.8780792964081203,
          0.8806644628285925,
          0.8791071960621608,
          0.874226870523122,
          0.8808963779596816
         ]
        },
        {
         "mode": "lines",
         "name": "IDH_ajusted",
         "type": "scatter",
         "x": [
          2012,
          2013,
          2014,
          2015,
          2016,
          2017,
          2018,
          2019,
          2020,
          2021
         ],
         "y": [
          0.6980854697961686,
          0.7025218277701717,
          0.7049299454244272,
          0.7091623565699786,
          0.7126752766176112,
          0.7065461187567805,
          0.7099981379978618,
          0.7085216605746246,
          0.7064830522211796,
          0.712793299665453
         ]
        },
        {
         "mode": "lines",
         "name": "Health Index",
         "type": "scatter",
         "x": [
          2012,
          2013,
          2014,
          2015,
          2016,
          2017,
          2018,
          2019,
          2020,
          2021
         ],
         "y": [
          0.8994,
          0.9042615384615384,
          0.9066,
          0.9183846153846152,
          0.9272307692307692,
          0.9116615384615384,
          0.9195384615384616,
          0.9086615384615384,
          0.8929384615384615,
          0.9255692307692308
         ]
        },
        {
         "mode": "lines",
         "name": "Health Index_ajusted",
         "type": "scatter",
         "x": [
          2012,
          2013,
          2014,
          2015,
          2016,
          2017,
          2018,
          2019,
          2020,
          2021
         ],
         "y": [
          0.827448,
          0.8319206153846154,
          0.8340720000000001,
          0.844913846153846,
          0.8530523076923077,
          0.8387286153846154,
          0.8459753846153847,
          0.8359686153846154,
          0.8215033846153845,
          0.8515236923076924
         ]
        },
        {
         "mode": "lines",
         "name": "Income Index",
         "type": "scatter",
         "x": [
          2012,
          2013,
          2014,
          2015,
          2016,
          2017,
          2018,
          2019,
          2020,
          2021
         ],
         "y": [
          0.8317874528459179,
          0.8335883747169018,
          0.8344755346787008,
          0.8372895974656357,
          0.837358127003589,
          0.8335634685942035,
          0.830117226655449,
          0.8310264901944087,
          0.8278732013148311,
          0.814775014835909
         ]
        },
        {
         "mode": "lines",
         "name": "Income Index_ajusted",
         "type": "scatter",
         "x": [
          2012,
          2013,
          2014,
          2015,
          2016,
          2017,
          2018,
          2019,
          2020,
          2021
         ],
         "y": [
          0.5166862073668241,
          0.5190045451531691,
          0.5186838799897694,
          0.5174024552266587,
          0.5168223744126559,
          0.5099056179447379,
          0.5097196186775408,
          0.509063221628094,
          0.5097021614252117,
          0.5020507508810662
         ]
        },
        {
         "mode": "lines",
         "name": "Edu Index",
         "type": "scatter",
         "x": [
          2012,
          2013,
          2014,
          2015,
          2016,
          2017,
          2018,
          2019,
          2020,
          2021
         ],
         "y": [
          0.870069293714625,
          0.8747149563639651,
          0.8786856810901396,
          0.8836999354988303,
          0.8877978290284736,
          0.8908998912492039,
          0.8947919938536267,
          0.8997223141344775,
          0.9038307207821176,
          0.906416622429982
         ]
        },
        {
         "mode": "lines",
         "name": "Edu Index_ajusted",
         "type": "scatter",
         "x": [
          2012,
          2013,
          2014,
          2015,
          2016,
          2017,
          2018,
          2019,
          2020,
          2021
         ],
         "y": [
          0.795716230433378,
          0.8030201075241552,
          0.8097138845531295,
          0.8158233120800609,
          0.8210282672788746,
          0.8247271426606347,
          0.8300085253596204,
          0.835791020186202,
          0.8421305291643181,
          0.8471229914250292
         ]
        }
       ],
       "layout": {
        "template": {
         "data": {
          "bar": [
           {
            "error_x": {
             "color": "#2a3f5f"
            },
            "error_y": {
             "color": "#2a3f5f"
            },
            "marker": {
             "line": {
              "color": "#E5ECF6",
              "width": 0.5
             },
             "pattern": {
              "fillmode": "overlay",
              "size": 10,
              "solidity": 0.2
             }
            },
            "type": "bar"
           }
          ],
          "barpolar": [
           {
            "marker": {
             "line": {
              "color": "#E5ECF6",
              "width": 0.5
             },
             "pattern": {
              "fillmode": "overlay",
              "size": 10,
              "solidity": 0.2
             }
            },
            "type": "barpolar"
           }
          ],
          "carpet": [
           {
            "aaxis": {
             "endlinecolor": "#2a3f5f",
             "gridcolor": "white",
             "linecolor": "white",
             "minorgridcolor": "white",
             "startlinecolor": "#2a3f5f"
            },
            "baxis": {
             "endlinecolor": "#2a3f5f",
             "gridcolor": "white",
             "linecolor": "white",
             "minorgridcolor": "white",
             "startlinecolor": "#2a3f5f"
            },
            "type": "carpet"
           }
          ],
          "choropleth": [
           {
            "colorbar": {
             "outlinewidth": 0,
             "ticks": ""
            },
            "type": "choropleth"
           }
          ],
          "contour": [
           {
            "colorbar": {
             "outlinewidth": 0,
             "ticks": ""
            },
            "colorscale": [
             [
              0,
              "#0d0887"
             ],
             [
              0.1111111111111111,
              "#46039f"
             ],
             [
              0.2222222222222222,
              "#7201a8"
             ],
             [
              0.3333333333333333,
              "#9c179e"
             ],
             [
              0.4444444444444444,
              "#bd3786"
             ],
             [
              0.5555555555555556,
              "#d8576b"
             ],
             [
              0.6666666666666666,
              "#ed7953"
             ],
             [
              0.7777777777777778,
              "#fb9f3a"
             ],
             [
              0.8888888888888888,
              "#fdca26"
             ],
             [
              1,
              "#f0f921"
             ]
            ],
            "type": "contour"
           }
          ],
          "contourcarpet": [
           {
            "colorbar": {
             "outlinewidth": 0,
             "ticks": ""
            },
            "type": "contourcarpet"
           }
          ],
          "heatmap": [
           {
            "colorbar": {
             "outlinewidth": 0,
             "ticks": ""
            },
            "colorscale": [
             [
              0,
              "#0d0887"
             ],
             [
              0.1111111111111111,
              "#46039f"
             ],
             [
              0.2222222222222222,
              "#7201a8"
             ],
             [
              0.3333333333333333,
              "#9c179e"
             ],
             [
              0.4444444444444444,
              "#bd3786"
             ],
             [
              0.5555555555555556,
              "#d8576b"
             ],
             [
              0.6666666666666666,
              "#ed7953"
             ],
             [
              0.7777777777777778,
              "#fb9f3a"
             ],
             [
              0.8888888888888888,
              "#fdca26"
             ],
             [
              1,
              "#f0f921"
             ]
            ],
            "type": "heatmap"
           }
          ],
          "heatmapgl": [
           {
            "colorbar": {
             "outlinewidth": 0,
             "ticks": ""
            },
            "colorscale": [
             [
              0,
              "#0d0887"
             ],
             [
              0.1111111111111111,
              "#46039f"
             ],
             [
              0.2222222222222222,
              "#7201a8"
             ],
             [
              0.3333333333333333,
              "#9c179e"
             ],
             [
              0.4444444444444444,
              "#bd3786"
             ],
             [
              0.5555555555555556,
              "#d8576b"
             ],
             [
              0.6666666666666666,
              "#ed7953"
             ],
             [
              0.7777777777777778,
              "#fb9f3a"
             ],
             [
              0.8888888888888888,
              "#fdca26"
             ],
             [
              1,
              "#f0f921"
             ]
            ],
            "type": "heatmapgl"
           }
          ],
          "histogram": [
           {
            "marker": {
             "pattern": {
              "fillmode": "overlay",
              "size": 10,
              "solidity": 0.2
             }
            },
            "type": "histogram"
           }
          ],
          "histogram2d": [
           {
            "colorbar": {
             "outlinewidth": 0,
             "ticks": ""
            },
            "colorscale": [
             [
              0,
              "#0d0887"
             ],
             [
              0.1111111111111111,
              "#46039f"
             ],
             [
              0.2222222222222222,
              "#7201a8"
             ],
             [
              0.3333333333333333,
              "#9c179e"
             ],
             [
              0.4444444444444444,
              "#bd3786"
             ],
             [
              0.5555555555555556,
              "#d8576b"
             ],
             [
              0.6666666666666666,
              "#ed7953"
             ],
             [
              0.7777777777777778,
              "#fb9f3a"
             ],
             [
              0.8888888888888888,
              "#fdca26"
             ],
             [
              1,
              "#f0f921"
             ]
            ],
            "type": "histogram2d"
           }
          ],
          "histogram2dcontour": [
           {
            "colorbar": {
             "outlinewidth": 0,
             "ticks": ""
            },
            "colorscale": [
             [
              0,
              "#0d0887"
             ],
             [
              0.1111111111111111,
              "#46039f"
             ],
             [
              0.2222222222222222,
              "#7201a8"
             ],
             [
              0.3333333333333333,
              "#9c179e"
             ],
             [
              0.4444444444444444,
              "#bd3786"
             ],
             [
              0.5555555555555556,
              "#d8576b"
             ],
             [
              0.6666666666666666,
              "#ed7953"
             ],
             [
              0.7777777777777778,
              "#fb9f3a"
             ],
             [
              0.8888888888888888,
              "#fdca26"
             ],
             [
              1,
              "#f0f921"
             ]
            ],
            "type": "histogram2dcontour"
           }
          ],
          "mesh3d": [
           {
            "colorbar": {
             "outlinewidth": 0,
             "ticks": ""
            },
            "type": "mesh3d"
           }
          ],
          "parcoords": [
           {
            "line": {
             "colorbar": {
              "outlinewidth": 0,
              "ticks": ""
             }
            },
            "type": "parcoords"
           }
          ],
          "pie": [
           {
            "automargin": true,
            "type": "pie"
           }
          ],
          "scatter": [
           {
            "fillpattern": {
             "fillmode": "overlay",
             "size": 10,
             "solidity": 0.2
            },
            "type": "scatter"
           }
          ],
          "scatter3d": [
           {
            "line": {
             "colorbar": {
              "outlinewidth": 0,
              "ticks": ""
             }
            },
            "marker": {
             "colorbar": {
              "outlinewidth": 0,
              "ticks": ""
             }
            },
            "type": "scatter3d"
           }
          ],
          "scattercarpet": [
           {
            "marker": {
             "colorbar": {
              "outlinewidth": 0,
              "ticks": ""
             }
            },
            "type": "scattercarpet"
           }
          ],
          "scattergeo": [
           {
            "marker": {
             "colorbar": {
              "outlinewidth": 0,
              "ticks": ""
             }
            },
            "type": "scattergeo"
           }
          ],
          "scattergl": [
           {
            "marker": {
             "colorbar": {
              "outlinewidth": 0,
              "ticks": ""
             }
            },
            "type": "scattergl"
           }
          ],
          "scattermapbox": [
           {
            "marker": {
             "colorbar": {
              "outlinewidth": 0,
              "ticks": ""
             }
            },
            "type": "scattermapbox"
           }
          ],
          "scatterpolar": [
           {
            "marker": {
             "colorbar": {
              "outlinewidth": 0,
              "ticks": ""
             }
            },
            "type": "scatterpolar"
           }
          ],
          "scatterpolargl": [
           {
            "marker": {
             "colorbar": {
              "outlinewidth": 0,
              "ticks": ""
             }
            },
            "type": "scatterpolargl"
           }
          ],
          "scatterternary": [
           {
            "marker": {
             "colorbar": {
              "outlinewidth": 0,
              "ticks": ""
             }
            },
            "type": "scatterternary"
           }
          ],
          "surface": [
           {
            "colorbar": {
             "outlinewidth": 0,
             "ticks": ""
            },
            "colorscale": [
             [
              0,
              "#0d0887"
             ],
             [
              0.1111111111111111,
              "#46039f"
             ],
             [
              0.2222222222222222,
              "#7201a8"
             ],
             [
              0.3333333333333333,
              "#9c179e"
             ],
             [
              0.4444444444444444,
              "#bd3786"
             ],
             [
              0.5555555555555556,
              "#d8576b"
             ],
             [
              0.6666666666666666,
              "#ed7953"
             ],
             [
              0.7777777777777778,
              "#fb9f3a"
             ],
             [
              0.8888888888888888,
              "#fdca26"
             ],
             [
              1,
              "#f0f921"
             ]
            ],
            "type": "surface"
           }
          ],
          "table": [
           {
            "cells": {
             "fill": {
              "color": "#EBF0F8"
             },
             "line": {
              "color": "white"
             }
            },
            "header": {
             "fill": {
              "color": "#C8D4E3"
             },
             "line": {
              "color": "white"
             }
            },
            "type": "table"
           }
          ]
         },
         "layout": {
          "annotationdefaults": {
           "arrowcolor": "#2a3f5f",
           "arrowhead": 0,
           "arrowwidth": 1
          },
          "autotypenumbers": "strict",
          "coloraxis": {
           "colorbar": {
            "outlinewidth": 0,
            "ticks": ""
           }
          },
          "colorscale": {
           "diverging": [
            [
             0,
             "#8e0152"
            ],
            [
             0.1,
             "#c51b7d"
            ],
            [
             0.2,
             "#de77ae"
            ],
            [
             0.3,
             "#f1b6da"
            ],
            [
             0.4,
             "#fde0ef"
            ],
            [
             0.5,
             "#f7f7f7"
            ],
            [
             0.6,
             "#e6f5d0"
            ],
            [
             0.7,
             "#b8e186"
            ],
            [
             0.8,
             "#7fbc41"
            ],
            [
             0.9,
             "#4d9221"
            ],
            [
             1,
             "#276419"
            ]
           ],
           "sequential": [
            [
             0,
             "#0d0887"
            ],
            [
             0.1111111111111111,
             "#46039f"
            ],
            [
             0.2222222222222222,
             "#7201a8"
            ],
            [
             0.3333333333333333,
             "#9c179e"
            ],
            [
             0.4444444444444444,
             "#bd3786"
            ],
            [
             0.5555555555555556,
             "#d8576b"
            ],
            [
             0.6666666666666666,
             "#ed7953"
            ],
            [
             0.7777777777777778,
             "#fb9f3a"
            ],
            [
             0.8888888888888888,
             "#fdca26"
            ],
            [
             1,
             "#f0f921"
            ]
           ],
           "sequentialminus": [
            [
             0,
             "#0d0887"
            ],
            [
             0.1111111111111111,
             "#46039f"
            ],
            [
             0.2222222222222222,
             "#7201a8"
            ],
            [
             0.3333333333333333,
             "#9c179e"
            ],
            [
             0.4444444444444444,
             "#bd3786"
            ],
            [
             0.5555555555555556,
             "#d8576b"
            ],
            [
             0.6666666666666666,
             "#ed7953"
            ],
            [
             0.7777777777777778,
             "#fb9f3a"
            ],
            [
             0.8888888888888888,
             "#fdca26"
            ],
            [
             1,
             "#f0f921"
            ]
           ]
          },
          "colorway": [
           "#636efa",
           "#EF553B",
           "#00cc96",
           "#ab63fa",
           "#FFA15A",
           "#19d3f3",
           "#FF6692",
           "#B6E880",
           "#FF97FF",
           "#FECB52"
          ],
          "font": {
           "color": "#2a3f5f"
          },
          "geo": {
           "bgcolor": "white",
           "lakecolor": "white",
           "landcolor": "#E5ECF6",
           "showlakes": true,
           "showland": true,
           "subunitcolor": "white"
          },
          "hoverlabel": {
           "align": "left"
          },
          "hovermode": "closest",
          "mapbox": {
           "style": "light"
          },
          "paper_bgcolor": "white",
          "plot_bgcolor": "#E5ECF6",
          "polar": {
           "angularaxis": {
            "gridcolor": "white",
            "linecolor": "white",
            "ticks": ""
           },
           "bgcolor": "#E5ECF6",
           "radialaxis": {
            "gridcolor": "white",
            "linecolor": "white",
            "ticks": ""
           }
          },
          "scene": {
           "xaxis": {
            "backgroundcolor": "#E5ECF6",
            "gridcolor": "white",
            "gridwidth": 2,
            "linecolor": "white",
            "showbackground": true,
            "ticks": "",
            "zerolinecolor": "white"
           },
           "yaxis": {
            "backgroundcolor": "#E5ECF6",
            "gridcolor": "white",
            "gridwidth": 2,
            "linecolor": "white",
            "showbackground": true,
            "ticks": "",
            "zerolinecolor": "white"
           },
           "zaxis": {
            "backgroundcolor": "#E5ECF6",
            "gridcolor": "white",
            "gridwidth": 2,
            "linecolor": "white",
            "showbackground": true,
            "ticks": "",
            "zerolinecolor": "white"
           }
          },
          "shapedefaults": {
           "line": {
            "color": "#2a3f5f"
           }
          },
          "ternary": {
           "aaxis": {
            "gridcolor": "white",
            "linecolor": "white",
            "ticks": ""
           },
           "baxis": {
            "gridcolor": "white",
            "linecolor": "white",
            "ticks": ""
           },
           "bgcolor": "#E5ECF6",
           "caxis": {
            "gridcolor": "white",
            "linecolor": "white",
            "ticks": ""
           }
          },
          "title": {
           "x": 0.05
          },
          "xaxis": {
           "automargin": true,
           "gridcolor": "white",
           "linecolor": "white",
           "ticks": "",
           "title": {
            "standoff": 15
           },
           "zerolinecolor": "white",
           "zerolinewidth": 2
          },
          "yaxis": {
           "automargin": true,
           "gridcolor": "white",
           "linecolor": "white",
           "ticks": "",
           "title": {
            "standoff": 15
           },
           "zerolinecolor": "white",
           "zerolinewidth": 2
          }
         }
        },
        "title": {
         "text": "Indice de Desarollo Humano"
        }
       }
      }
     },
     "metadata": {},
     "output_type": "display_data"
    },
    {
     "name": "stdout",
     "output_type": "stream",
     "text": [
      "None\n"
     ]
    }
   ],
   "source": [
    "# graph dummy data with ploty\n",
    "fig = go.Figure()\n",
    "fig.add_trace(go.Scatter(x=df['Year'], y=df['index'], name='IDH', mode='lines'))\n",
    "fig.add_trace(go.Scatter(x=df['Year'], y=df['index_ajusted'], name='IDH_ajusted', mode='lines'))\n",
    "fig.add_trace(go.Scatter(x=df['Year'], y=df['health_index'], name='Health Index', mode='lines'))\n",
    "fig.add_trace(go.Scatter(x=df['Year'], y=df['health_index_ajusted'], name='Health Index_ajusted', mode='lines'))\n",
    "fig.add_trace(go.Scatter(x=df['Year'], y=df['income_index'], name='Income Index', mode='lines'))\n",
    "fig.add_trace(go.Scatter(x=df['Year'], y=df['income_index_ajusted'], name='Income Index_ajusted', mode='lines'))\n",
    "fig.add_trace(go.Scatter(x=df['Year'], y=df['edu_index'], name='Edu Index', mode='lines'))\n",
    "fig.add_trace(go.Scatter(x=df['Year'], y=df['edu_index_ajusted'], name='Edu Index_ajusted', mode='lines'))\n",
    "fig.layout.title = 'Indice de Desarollo Humano'\n",
    "print(fig.show())"
   ]
  }
 ],
 "metadata": {
  "kernelspec": {
   "display_name": "research",
   "language": "python",
   "name": "python3"
  },
  "language_info": {
   "codemirror_mode": {
    "name": "ipython",
    "version": 3
   },
   "file_extension": ".py",
   "mimetype": "text/x-python",
   "name": "python",
   "nbconvert_exporter": "python",
   "pygments_lexer": "ipython3",
   "version": "3.10.12"
  },
  "orig_nbformat": 4
 },
 "nbformat": 4,
 "nbformat_minor": 2
}
