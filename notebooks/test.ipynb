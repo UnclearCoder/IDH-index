{
 "cells": [
  {
   "cell_type": "code",
   "execution_count": 78,
   "metadata": {},
   "outputs": [],
   "source": [
    "import pandas as pd\n",
    "import numpy as np\n",
    "from scipy.stats import gmean, describe\n",
    "import world_bank_data as wb"
   ]
  },
  {
   "cell_type": "code",
   "execution_count": 79,
   "metadata": {},
   "outputs": [],
   "source": [
    "def coef_and_stats(data):\n",
    "    gemetric = gmean(data)\n",
    "    amean = data.mean()\n",
    "    atkinson = 1 - gemetric/amean\n",
    "    coef = 1 - atkinson\n",
    "    return coef, amean, gemetric, atkinson"
   ]
  },
  {
   "cell_type": "code",
   "execution_count": 80,
   "metadata": {},
   "outputs": [],
   "source": [
    "def to_category(x):\n",
    "    mapping = {4: 1, 5: 2, 6: 3, 7: 4, 8: 5, \n",
    "               9: 6, 10: 7, 11: 8, 12: 9, 13: 10,\n",
    "               14: 11, 15: 11, 16: 12, 17: 12, \n",
    "               18: 12.5, 19: 13, 20: 14, 21: 16,\n",
    "    }\n",
    "    return mapping.get(x, 0) if x <= 21 else 18"
   ]
  },
  {
   "cell_type": "code",
   "execution_count": 81,
   "metadata": {},
   "outputs": [
    {
     "name": "stdout",
     "output_type": "stream",
     "text": [
      "index: 0.8716164146530334\n",
      " index adj: 0.798147282963029\n"
     ]
    }
   ],
   "source": [
    "df = pd.read_csv('/Volumes/Nergigante/Project_Anarchy/Coding/GitHub/IDH-index/data/raw/data_ppr_2021_raw.csv', low_memory=False)\n",
    "df = df[['AGEP', 'SCH', 'SCHL']]\n",
    "\n",
    "# calcualte the mean of years of schooling\n",
    "edu_sch = df[df['AGEP'] >= 25].copy()\n",
    "edu_sch['scholing'] = edu_sch['SCHL']\n",
    "edu_sch.reset_index(inplace=True)\n",
    "edu_sch['scholing'] = edu_sch['scholing'].apply(lambda x: to_category(x))\n",
    "edu_sch['enroled'] = np.where(edu_sch['scholing'] > 1, 1, 0)\n",
    "mean_sch = edu_sch['scholing'].mean()\n",
    "\n",
    "# get coeficient of ajustment\n",
    "edu_sch['no_zero_schooling'] = 1 + edu_sch['scholing']\n",
    "coef, amean, gemetric, atkinson = coef_and_stats(edu_sch['no_zero_schooling'])\n",
    "\n",
    "# calculate the expected years of schooling\n",
    "edu_exp = df[df['AGEP'] < 25].copy()\n",
    "edu_exp['enrolled'] = edu_exp['SCH'].apply(lambda x: 1 if x > 1 else 0)\n",
    "edu_age = edu_exp.groupby(['AGEP'])[['AGEP','enrolled']].count()\n",
    "edu_age['enrolled'] = edu_exp.groupby(['AGEP'])['enrolled'].sum()\n",
    "edu_age['enrollment_rate'] = edu_age['enrolled'] / edu_age['AGEP']\n",
    "edu_age = edu_age.rename (columns = {'AGEP': 'count'})\n",
    "edu_age = edu_age.reset_index()\n",
    "edu_age.drop([0,1,2,3,4], inplace=True)\n",
    "exp_sch = edu_age['enrollment_rate'].sum()\n",
    "\n",
    "# calculate index\n",
    "edu_value = (mean_sch/15 + exp_sch/18) / 2\n",
    "edu_value_ajusted = coef * edu_value\n",
    "print(f'index: {edu_value}\\n', f\"index adj: {edu_value_ajusted}\")"
   ]
  },
  {
   "cell_type": "code",
   "execution_count": 82,
   "metadata": {},
   "outputs": [
    {
     "name": "stdout",
     "output_type": "stream",
     "text": [
      "0.007000000000000006\n",
      "0.00039999999999995595\n"
     ]
    }
   ],
   "source": [
    "print(0.798 - 0.791)\n",
    "print(0.872 - 0.8716)"
   ]
  },
  {
   "cell_type": "code",
   "execution_count": 83,
   "metadata": {},
   "outputs": [
    {
     "data": {
      "text/plain": [
       "13.346702429788577"
      ]
     },
     "execution_count": 83,
     "metadata": {},
     "output_type": "execute_result"
    }
   ],
   "source": [
    "np.mean(edu_sch['no_zero_schooling'])"
   ]
  },
  {
   "cell_type": "code",
   "execution_count": 84,
   "metadata": {},
   "outputs": [
    {
     "data": {
      "text/plain": [
       "12.221699937916302"
      ]
     },
     "execution_count": 84,
     "metadata": {},
     "output_type": "execute_result"
    }
   ],
   "source": [
    "gmean(edu_sch['no_zero_schooling'])"
   ]
  },
  {
   "cell_type": "code",
   "execution_count": 85,
   "metadata": {},
   "outputs": [
    {
     "data": {
      "text/plain": [
       "13.346702429788577"
      ]
     },
     "execution_count": 85,
     "metadata": {},
     "output_type": "execute_result"
    }
   ],
   "source": [
    "edu_sch['no_zero_schooling'].mean()"
   ]
  },
  {
   "cell_type": "code",
   "execution_count": 86,
   "metadata": {},
   "outputs": [
    {
     "name": "stdout",
     "output_type": "stream",
     "text": [
      " Coef: 0.9157093298670258\n",
      " Amean: 13.346702429788577\n",
      " Geometric: 12.221699937916302\n",
      " Atkinson: 0.0842906701329742\n",
      " Index: 0.906\n",
      " Index adj: 0.8296326528595254\n"
     ]
    }
   ],
   "source": [
    "coef, amean, gemetric, atkinson = coef_and_stats(edu_sch['no_zero_schooling'])\n",
    "print(f' Coef: {coef}\\n', \n",
    "      f'Amean: {amean}\\n', \n",
    "      f'Geometric: {gemetric}\\n', \n",
    "      f'Atkinson: {atkinson}\\n',\n",
    "      f'Index: 0.906\\n',\n",
    "      f'Index adj: {0.906 * coef}')"
   ]
  },
  {
   "cell_type": "code",
   "execution_count": 87,
   "metadata": {},
   "outputs": [
    {
     "data": {
      "text/plain": [
       "0.8296326528595254"
      ]
     },
     "execution_count": 87,
     "metadata": {},
     "output_type": "execute_result"
    }
   ],
   "source": [
    "0.8296326528595254"
   ]
  },
  {
   "cell_type": "code",
   "execution_count": 88,
   "metadata": {},
   "outputs": [
    {
     "data": {
      "text/html": [
       "<div>\n",
       "<style scoped>\n",
       "    .dataframe tbody tr th:only-of-type {\n",
       "        vertical-align: middle;\n",
       "    }\n",
       "\n",
       "    .dataframe tbody tr th {\n",
       "        vertical-align: top;\n",
       "    }\n",
       "\n",
       "    .dataframe thead th {\n",
       "        text-align: right;\n",
       "    }\n",
       "</style>\n",
       "<table border=\"1\" class=\"dataframe\">\n",
       "  <thead>\n",
       "    <tr style=\"text-align: right;\">\n",
       "      <th></th>\n",
       "      <th>index</th>\n",
       "      <th>AGEP</th>\n",
       "      <th>SCH</th>\n",
       "      <th>SCHL</th>\n",
       "      <th>scholing</th>\n",
       "      <th>enroled</th>\n",
       "      <th>no_zero_schooling</th>\n",
       "    </tr>\n",
       "  </thead>\n",
       "  <tbody>\n",
       "    <tr>\n",
       "      <th>0</th>\n",
       "      <td>0</td>\n",
       "      <td>40</td>\n",
       "      <td>1.0</td>\n",
       "      <td>19.0</td>\n",
       "      <td>13.0</td>\n",
       "      <td>1</td>\n",
       "      <td>14.0</td>\n",
       "    </tr>\n",
       "    <tr>\n",
       "      <th>1</th>\n",
       "      <td>2</td>\n",
       "      <td>61</td>\n",
       "      <td>1.0</td>\n",
       "      <td>18.0</td>\n",
       "      <td>12.5</td>\n",
       "      <td>1</td>\n",
       "      <td>13.5</td>\n",
       "    </tr>\n",
       "    <tr>\n",
       "      <th>2</th>\n",
       "      <td>3</td>\n",
       "      <td>63</td>\n",
       "      <td>1.0</td>\n",
       "      <td>12.0</td>\n",
       "      <td>9.0</td>\n",
       "      <td>1</td>\n",
       "      <td>10.0</td>\n",
       "    </tr>\n",
       "    <tr>\n",
       "      <th>3</th>\n",
       "      <td>4</td>\n",
       "      <td>58</td>\n",
       "      <td>1.0</td>\n",
       "      <td>16.0</td>\n",
       "      <td>12.0</td>\n",
       "      <td>1</td>\n",
       "      <td>13.0</td>\n",
       "    </tr>\n",
       "    <tr>\n",
       "      <th>4</th>\n",
       "      <td>5</td>\n",
       "      <td>84</td>\n",
       "      <td>1.0</td>\n",
       "      <td>18.0</td>\n",
       "      <td>12.5</td>\n",
       "      <td>1</td>\n",
       "      <td>13.5</td>\n",
       "    </tr>\n",
       "    <tr>\n",
       "      <th>...</th>\n",
       "      <td>...</td>\n",
       "      <td>...</td>\n",
       "      <td>...</td>\n",
       "      <td>...</td>\n",
       "      <td>...</td>\n",
       "      <td>...</td>\n",
       "      <td>...</td>\n",
       "    </tr>\n",
       "    <tr>\n",
       "      <th>95065</th>\n",
       "      <td>124663</td>\n",
       "      <td>56</td>\n",
       "      <td>1.0</td>\n",
       "      <td>16.0</td>\n",
       "      <td>12.0</td>\n",
       "      <td>1</td>\n",
       "      <td>13.0</td>\n",
       "    </tr>\n",
       "    <tr>\n",
       "      <th>95066</th>\n",
       "      <td>124664</td>\n",
       "      <td>47</td>\n",
       "      <td>1.0</td>\n",
       "      <td>22.0</td>\n",
       "      <td>18.0</td>\n",
       "      <td>1</td>\n",
       "      <td>19.0</td>\n",
       "    </tr>\n",
       "    <tr>\n",
       "      <th>95067</th>\n",
       "      <td>124665</td>\n",
       "      <td>46</td>\n",
       "      <td>1.0</td>\n",
       "      <td>21.0</td>\n",
       "      <td>16.0</td>\n",
       "      <td>1</td>\n",
       "      <td>17.0</td>\n",
       "    </tr>\n",
       "    <tr>\n",
       "      <th>95068</th>\n",
       "      <td>124668</td>\n",
       "      <td>61</td>\n",
       "      <td>1.0</td>\n",
       "      <td>17.0</td>\n",
       "      <td>12.0</td>\n",
       "      <td>1</td>\n",
       "      <td>13.0</td>\n",
       "    </tr>\n",
       "    <tr>\n",
       "      <th>95069</th>\n",
       "      <td>124669</td>\n",
       "      <td>56</td>\n",
       "      <td>1.0</td>\n",
       "      <td>21.0</td>\n",
       "      <td>16.0</td>\n",
       "      <td>1</td>\n",
       "      <td>17.0</td>\n",
       "    </tr>\n",
       "  </tbody>\n",
       "</table>\n",
       "<p>95070 rows × 7 columns</p>\n",
       "</div>"
      ],
      "text/plain": [
       "        index  AGEP  SCH  SCHL  scholing  enroled  no_zero_schooling\n",
       "0           0    40  1.0  19.0      13.0        1               14.0\n",
       "1           2    61  1.0  18.0      12.5        1               13.5\n",
       "2           3    63  1.0  12.0       9.0        1               10.0\n",
       "3           4    58  1.0  16.0      12.0        1               13.0\n",
       "4           5    84  1.0  18.0      12.5        1               13.5\n",
       "...       ...   ...  ...   ...       ...      ...                ...\n",
       "95065  124663    56  1.0  16.0      12.0        1               13.0\n",
       "95066  124664    47  1.0  22.0      18.0        1               19.0\n",
       "95067  124665    46  1.0  21.0      16.0        1               17.0\n",
       "95068  124668    61  1.0  17.0      12.0        1               13.0\n",
       "95069  124669    56  1.0  21.0      16.0        1               17.0\n",
       "\n",
       "[95070 rows x 7 columns]"
      ]
     },
     "execution_count": 88,
     "metadata": {},
     "output_type": "execute_result"
    }
   ],
   "source": [
    "edu_sch"
   ]
  },
  {
   "cell_type": "code",
   "execution_count": 89,
   "metadata": {},
   "outputs": [
    {
     "data": {
      "text/plain": [
       "array([13. , 12.5,  9. , 12. , 16. , 18. , 14. ,  5. ,  0. ,  8. ,  7. ,\n",
       "       11. , 10. ,  6. ,  4. ,  2. ,  3. ,  1. ])"
      ]
     },
     "execution_count": 89,
     "metadata": {},
     "output_type": "execute_result"
    }
   ],
   "source": [
    "edu_sch['scholing'].unique()"
   ]
  },
  {
   "cell_type": "code",
   "execution_count": 90,
   "metadata": {},
   "outputs": [
    {
     "data": {
      "text/plain": [
       "AGEP    0\n",
       "SCH     0\n",
       "SCHL    0\n",
       "dtype: int64"
      ]
     },
     "execution_count": 90,
     "metadata": {},
     "output_type": "execute_result"
    }
   ],
   "source": [
    "df[df['SCH'] == 0].count()"
   ]
  },
  {
   "cell_type": "code",
   "execution_count": 91,
   "metadata": {},
   "outputs": [
    {
     "data": {
      "text/plain": [
       "index                2363\n",
       "AGEP                 2363\n",
       "SCH                  2363\n",
       "SCHL                 2363\n",
       "scholing             2363\n",
       "enroled              2363\n",
       "no_zero_schooling    2363\n",
       "dtype: int64"
      ]
     },
     "execution_count": 91,
     "metadata": {},
     "output_type": "execute_result"
    }
   ],
   "source": [
    "edu_sch[edu_sch['scholing'] == 0].count()"
   ]
  },
  {
   "cell_type": "code",
   "execution_count": 92,
   "metadata": {},
   "outputs": [],
   "source": [
    "# save to csv\n",
    "edu_sch.to_csv('/Volumes/Nergigante/Project_Anarchy/Coding/GitHub/IDH-index/data/interim/dev.csv', index=False)"
   ]
  },
  {
   "cell_type": "code",
   "execution_count": 99,
   "metadata": {},
   "outputs": [
    {
     "name": "stdout",
     "output_type": "stream",
     "text": [
      "    Year    atlas           gni  income_ratio          pnb    index_temp  \\\n",
      "0   2006  19860.0  24680.190939      1.242709  15173.00000  18855.616169   \n",
      "1   2007  20720.0  25214.529716      1.216917  15984.00000  19451.208638   \n",
      "2   2008  20610.0  24077.452730      1.168241  16623.00000  19419.674756   \n",
      "3   2009  20150.0  22697.433083      1.126423  16960.00000  19104.142188   \n",
      "4   2010  20210.0  21868.952510      1.082086  17233.00000  18647.583306   \n",
      "5   2011  20840.0  21820.620880      1.047055  17762.00000  18597.786376   \n",
      "6   2012  21840.0  23332.436631      1.068335  18618.00000  19890.261227   \n",
      "7   2013  22320.0  23645.723875      1.059396  19188.26120  20327.971594   \n",
      "8   2014  22620.0  23638.712903      1.045036  19462.50418  20339.016299   \n",
      "9   2015  22900.0  23569.637816      1.029242  20039.54818  20625.541161   \n",
      "10  2016  23040.0  23366.533774      1.014172  20543.56862  20834.721788   \n",
      "11  2017  22940.0  22937.677124      0.999899  20764.98082  20762.878183   \n",
      "12  2018  23470.0  23298.035226      0.992673  21169.30976  21014.202151   \n",
      "13  2019  24410.0  23018.205840      0.942983  22157.75838  20894.381129   \n",
      "14  2020  23370.0  22113.394241      0.946230  22608.01691  21392.383010   \n",
      "15  2021  24800.0  20959.029055      0.845122  23611.78722  22342.180550   \n",
      "16  2022  27840.0  22313.000712      0.801473  24045.00000  19271.411714   \n",
      "\n",
      "       index  \n",
      "0   0.799776  \n",
      "1   0.804523  \n",
      "2   0.804275  \n",
      "3   0.801775  \n",
      "4   0.798082  \n",
      "5   0.797674  \n",
      "6   0.807930  \n",
      "7   0.811253  \n",
      "8   0.811336  \n",
      "9   0.813471  \n",
      "10  0.815012  \n",
      "11  0.814484  \n",
      "12  0.816321  \n",
      "13  0.815448  \n",
      "14  0.819044  \n",
      "15  0.825675  \n",
      "16  0.803105  \n"
     ]
    }
   ],
   "source": [
    "atlas_df = pd.DataFrame(wb.get_series('NY.GNP.PCAP.PP.CD', country='PR', simplify_index=True))\n",
    "atlas_df.reset_index(inplace=True)\n",
    "atlas_df.rename(columns={'NY.GNP.PCAP.PP.CD': 'atlas'}, inplace=True)\n",
    "atlas_df['atlas'] = atlas_df['atlas'].astype(float)\n",
    "\n",
    "# get gni constant df from WB\n",
    "gni_df = pd.DataFrame(wb.get_series('NY.GNP.PCAP.PP.KD', country='PR', simplify_index=True))\n",
    "gni_df.reset_index(inplace=True)\n",
    "gni_df.rename(columns={'NY.GNP.PCAP.PP.KD': 'gni'}, inplace=True)\n",
    "gni_df['gni'] = gni_df['gni'].astype(float)\n",
    "# replace value 20\n",
    "\n",
    "# ajust the index\n",
    "ajusted_df = pd.DataFrame([], columns=['Year', 'coef', 'atkinson'])\n",
    "\n",
    "# merge the two dataframes\n",
    "inc_df = atlas_df.merge(gni_df, on='Year')\n",
    "inc_df['income_ratio'] = inc_df['gni'] / inc_df['atlas']\n",
    "inc_df['income_ratio'] = inc_df['income_ratio'].astype(float)\n",
    "inc_df['Year'] = inc_df['Year'].astype(int)\n",
    "\n",
    "# merge the income index with the pnb.csv file\n",
    "pnb = pd.read_csv('/Volumes/Nergigante/Project_Anarchy/Coding/GitHub/IDH-index/data/external/pnb.csv')\n",
    "merge_df = inc_df.merge(pnb, on='Year', how='left')\n",
    "merge_df = merge_df.dropna()\n",
    "merge_df.reset_index(inplace=True)\n",
    "merge_df.drop(['index'], axis=1, inplace=True)\n",
    "\n",
    "# calculate the index\n",
    "merge_df['index_temp'] = merge_df['income_ratio'] * merge_df['pnb']\n",
    "# replace the value of the year 2021 with 0\n",
    "merge_df.loc[merge_df['Year'] == 2021, 'index_temp'] = 22342.18055\n",
    "merge_df['index'] = (np.log(merge_df['index_temp']) - np.log(100)) / (np.log(70000) - np.log(100))\n",
    "print(merge_df)\n",
    "merge_df = merge_df[['Year', 'index']]\n",
    "merge_df = merge_df.sort_values(by='Year', ascending=True)\n",
    "merge_df = merge_df.merge(ajusted_df, on='Year', how='left')\n",
    "merge_df['income_index_ajusted'] = merge_df['coef'] * merge_df['index']\n",
    "merge_df.drop(['coef'], axis=1, inplace=True)"
   ]
  },
  {
   "cell_type": "code",
   "execution_count": null,
   "metadata": {},
   "outputs": [],
   "source": [
    "merge_df"
   ]
  },
  {
   "cell_type": "code",
   "execution_count": null,
   "metadata": {},
   "outputs": [],
   "source": []
  }
 ],
 "metadata": {
  "kernelspec": {
   "display_name": "research",
   "language": "python",
   "name": "python3"
  },
  "language_info": {
   "codemirror_mode": {
    "name": "ipython",
    "version": 3
   },
   "file_extension": ".py",
   "mimetype": "text/x-python",
   "name": "python",
   "nbconvert_exporter": "python",
   "pygments_lexer": "ipython3",
   "version": "3.10.13"
  }
 },
 "nbformat": 4,
 "nbformat_minor": 2
}
